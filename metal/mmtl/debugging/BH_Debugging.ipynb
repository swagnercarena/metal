{
 "cells": [
  {
   "cell_type": "code",
   "execution_count": 1,
   "metadata": {},
   "outputs": [
    {
     "name": "stdout",
     "output_type": "stream",
     "text": [
      "The autoreload extension is already loaded. To reload it, use:\n",
      "  %reload_ext autoreload\n",
      "Better speed can be achieved with apex installed from https://www.github.com/nvidia/apex.\n"
     ]
    }
   ],
   "source": [
    "%load_ext autoreload\n",
    "%autoreload 2\n",
    "%matplotlib inline\n",
    "\n",
    "import torch \n",
    "import matplotlib.pyplot as plt\n",
    "import numpy as np\n",
    "import pandas as pd\n",
    "\n",
    "from utils import *"
   ]
  },
  {
   "cell_type": "markdown",
   "metadata": {},
   "source": [
    "### Initialize Tagger"
   ]
  },
  {
   "cell_type": "code",
   "execution_count": 2,
   "metadata": {},
   "outputs": [],
   "source": [
    "from tagger import Tagger\n",
    "tagger = Tagger()"
   ]
  },
  {
   "cell_type": "markdown",
   "metadata": {},
   "source": [
    "### Load Model and Data"
   ]
  },
  {
   "cell_type": "code",
   "execution_count": 3,
   "metadata": {},
   "outputs": [],
   "source": [
    "model_path = '/dfs/scratch0/mccreery/mmtl/logs/best/QQP/logdir/2019_02_23/QQP_16_45_24'\n",
    "task_name = 'QQP'\n",
    "split = 'dev'\n",
    "filepath = f'{task_name}_{split}_error_analysis.tsv'"
   ]
  },
  {
   "cell_type": "code",
   "execution_count": 4,
   "metadata": {},
   "outputs": [],
   "source": [
    "# # Load model and data\n",
    "# model, dl = load_data_and_model(model_path,task_name,split)\n",
    "\n",
    "# # Create DataFrame of Raw Data, Predictions, and Labels\n",
    "# print('Creating dataframe')\n",
    "# df_error = create_dataframe(task_name, model, dl)\n",
    "# print('Created dataframe')\n",
    "\n",
    "# # Save (and reload) DataFrame\n",
    "# csv_path = '/'.join(model_path.split('/')[0:-1])\n",
    "# save_dataframe(df_error, filepath)"
   ]
  },
  {
   "cell_type": "code",
   "execution_count": 5,
   "metadata": {},
   "outputs": [],
   "source": [
    "df_error = load_dataframe(filepath)"
   ]
  },
  {
   "cell_type": "code",
   "execution_count": 6,
   "metadata": {},
   "outputs": [
    {
     "data": {
      "text/html": [
       "<div>\n",
       "<style scoped>\n",
       "    .dataframe tbody tr th:only-of-type {\n",
       "        vertical-align: middle;\n",
       "    }\n",
       "\n",
       "    .dataframe tbody tr th {\n",
       "        vertical-align: top;\n",
       "    }\n",
       "\n",
       "    .dataframe thead th {\n",
       "        text-align: right;\n",
       "    }\n",
       "</style>\n",
       "<table border=\"1\" class=\"dataframe\">\n",
       "  <thead>\n",
       "    <tr style=\"text-align: right;\">\n",
       "      <th></th>\n",
       "      <th>Unnamed: 0</th>\n",
       "      <th>sentence1</th>\n",
       "      <th>sentence2</th>\n",
       "      <th>score</th>\n",
       "      <th>label</th>\n",
       "      <th>uid</th>\n",
       "      <th>pred</th>\n",
       "      <th>is_wrong</th>\n",
       "    </tr>\n",
       "  </thead>\n",
       "  <tbody>\n",
       "    <tr>\n",
       "      <th>0</th>\n",
       "      <td>0</td>\n",
       "      <td>why are african - americans so beautiful ?</td>\n",
       "      <td>why are hispanic ##s so beautiful ?</td>\n",
       "      <td>0.017592</td>\n",
       "      <td>0</td>\n",
       "      <td>QQP/dev.tsv:2</td>\n",
       "      <td>0</td>\n",
       "      <td>False</td>\n",
       "    </tr>\n",
       "    <tr>\n",
       "      <th>1</th>\n",
       "      <td>1</td>\n",
       "      <td>i want to pursue phd in computer science abou...</td>\n",
       "      <td>i handle social media for a non - profit . sh...</td>\n",
       "      <td>0.001446</td>\n",
       "      <td>0</td>\n",
       "      <td>QQP/dev.tsv:3</td>\n",
       "      <td>0</td>\n",
       "      <td>False</td>\n",
       "    </tr>\n",
       "    <tr>\n",
       "      <th>2</th>\n",
       "      <td>2</td>\n",
       "      <td>is there a reason why we should travel alone ?</td>\n",
       "      <td>what are some reasons to travel alone ?</td>\n",
       "      <td>0.935732</td>\n",
       "      <td>1</td>\n",
       "      <td>QQP/dev.tsv:4</td>\n",
       "      <td>1</td>\n",
       "      <td>False</td>\n",
       "    </tr>\n",
       "    <tr>\n",
       "      <th>3</th>\n",
       "      <td>3</td>\n",
       "      <td>why are people so obsessed with having a girl...</td>\n",
       "      <td>how can a single male have a child ?</td>\n",
       "      <td>0.001505</td>\n",
       "      <td>0</td>\n",
       "      <td>QQP/dev.tsv:5</td>\n",
       "      <td>0</td>\n",
       "      <td>False</td>\n",
       "    </tr>\n",
       "    <tr>\n",
       "      <th>4</th>\n",
       "      <td>4</td>\n",
       "      <td>what are some good baby girl names starting w...</td>\n",
       "      <td>what are some good baby girl names starting w...</td>\n",
       "      <td>0.149290</td>\n",
       "      <td>0</td>\n",
       "      <td>QQP/dev.tsv:6</td>\n",
       "      <td>0</td>\n",
       "      <td>False</td>\n",
       "    </tr>\n",
       "  </tbody>\n",
       "</table>\n",
       "</div>"
      ],
      "text/plain": [
       "   Unnamed: 0                                          sentence1  \\\n",
       "0           0        why are african - americans so beautiful ?    \n",
       "1           1   i want to pursue phd in computer science abou...   \n",
       "2           2    is there a reason why we should travel alone ?    \n",
       "3           3   why are people so obsessed with having a girl...   \n",
       "4           4   what are some good baby girl names starting w...   \n",
       "\n",
       "                                           sentence2     score  label  \\\n",
       "0               why are hispanic ##s so beautiful ?   0.017592      0   \n",
       "1   i handle social media for a non - profit . sh...  0.001446      0   \n",
       "2           what are some reasons to travel alone ?   0.935732      1   \n",
       "3              how can a single male have a child ?   0.001505      0   \n",
       "4   what are some good baby girl names starting w...  0.149290      0   \n",
       "\n",
       "             uid  pred  is_wrong  \n",
       "0  QQP/dev.tsv:2     0     False  \n",
       "1  QQP/dev.tsv:3     0     False  \n",
       "2  QQP/dev.tsv:4     1     False  \n",
       "3  QQP/dev.tsv:5     0     False  \n",
       "4  QQP/dev.tsv:6     0     False  "
      ]
     },
     "execution_count": 6,
     "metadata": {},
     "output_type": "execute_result"
    }
   ],
   "source": [
    "df_error.head()"
   ]
  },
  {
   "cell_type": "markdown",
   "metadata": {},
   "source": [
    "## Sandbox for Error Analysis"
   ]
  },
  {
   "cell_type": "markdown",
   "metadata": {},
   "source": [
    "**0. Some basic statistics.**"
   ]
  },
  {
   "cell_type": "markdown",
   "metadata": {},
   "source": [
    "Confusion Matrix and Performance Metrics"
   ]
  },
  {
   "cell_type": "code",
   "execution_count": 7,
   "metadata": {},
   "outputs": [
    {
     "name": "stdout",
     "output_type": "stream",
     "text": [
      "        y=1    y=2   \n",
      " l=1  *0.836  0.164  \n",
      " l=2   0.081 *0.919  \n",
      "\n",
      "Accuracy: 0.887\n",
      "Precision: 0.836\n",
      "Recall: 0.863\n",
      "F1: 0.849\n"
     ]
    }
   ],
   "source": [
    "from metal.analysis import confusion_matrix\n",
    "from metal.utils import convert_labels\n",
    "\n",
    "Y_gold = convert_labels(df_error['label'].values, \"onezero\", \"categorical\")\n",
    "Y_preds = convert_labels(df_error['pred'].values, \"onezero\", \"categorical\")\n",
    "Y_probs = np.vstack([df_error['score'].values, 1 - df_error['score'].values]).transpose()\n",
    "confusion_matrix(Y_gold, Y_preds, pretty_print=True, normalize=True)\n",
    "print()\n",
    "\n",
    "from metal.metrics import metric_score\n",
    "metric_list = ['accuracy','precision', 'recall', 'f1']\n",
    "\n",
    "for metric in metric_list:\n",
    "    score = metric_score(Y_gold, Y_preds, metric, probs=Y_probs)\n",
    "    print(f\"{metric.capitalize()}: {score:.3f}\")"
   ]
  },
  {
   "cell_type": "markdown",
   "metadata": {},
   "source": [
    "Plotting Predictions and Predicted Probabilistic Label Distribution"
   ]
  },
  {
   "cell_type": "code",
   "execution_count": 23,
   "metadata": {},
   "outputs": [
    {
     "name": "stdout",
     "output_type": "stream",
     "text": [
      "Plotting probabilities from the first column of Y_probs\n"
     ]
    },
    {
     "data": {
      "image/png": "[encoded data removed]",
      "text/plain": [
       "<Figure size 432x288 with 1 Axes>"
      ]
     },
     "metadata": {
      "needs_background": "light"
     },
     "output_type": "display_data"
    },
    {
     "data": {
      "image/png": "[encoded data removed]",
      "text/plain": [
       "<Figure size 432x288 with 1 Axes>"
      ]
     },
     "metadata": {
      "needs_background": "light"
     },
     "output_type": "display_data"
    },
    {
     "name": "stdout",
     "output_type": "stream",
     "text": [
      "Plotting probabilities from the first column of Y_probs\n"
     ]
    },
    {
     "name": "stderr",
     "output_type": "stream",
     "text": [
      "/dfs/scratch0/bradenjh/metal/metal/contrib/visualization/analysis.py:147: RuntimeWarning: invalid value encountered in long_scalars\n",
      "  bin_accuracy = sum(bin_idxs * correct_idxs) / sum(bin_idxs)\n"
     ]
    },
    {
     "data": {
      "image/png": "[encoded data removed]",
      "text/plain": [
       "<Figure size 432x288 with 1 Axes>"
      ]
     },
     "metadata": {
      "needs_background": "light"
     },
     "output_type": "display_data"
    }
   ],
   "source": [
    "from metal.contrib.visualization.analysis import (\n",
    "        plot_predictions_histogram, \n",
    "        plot_probabilities_histogram,\n",
    "        plot_calibration_plot\n",
    "    )\n",
    "plot_probabilities_histogram(Y_probs, title=\"Label Distribution\")\n",
    "plot_predictions_histogram(Y_preds, Y_gold, title=\"Label Distribution\")\n",
    "plot_calibration_plot(Y_probs, Y_gold, title=\"Calibration Plot\")"
   ]
  },
  {
   "cell_type": "code",
   "execution_count": null,
   "metadata": {},
   "outputs": [],
   "source": [
    "import numpy as np\n",
    "foo = np.array([1,2,3])\n",
    "(foo > 0.5) * (foo < 2.5)"
   ]
  },
  {
   "cell_type": "markdown",
   "metadata": {},
   "source": [
    "**1. We want to look at examples that are \"barely\" wrong and \"barely\" right since we have hope for boosts here.**"
   ]
  },
  {
   "cell_type": "code",
   "execution_count": null,
   "metadata": {
    "scrolled": true
   },
   "outputs": [],
   "source": [
    "print(\"\\033[1mBARELY WRONG\\033[0;0m\")\n",
    "print_barely_wrong(df_error, thresh=0.2, n=3)"
   ]
  },
  {
   "cell_type": "code",
   "execution_count": null,
   "metadata": {
    "scrolled": false
   },
   "outputs": [],
   "source": [
    "print(\"\\033[1mBARELY RIGHT\\033[0;0m\")\n",
    "print_barely_right(df_error, thresh=0.2, n=3)"
   ]
  },
  {
   "cell_type": "markdown",
   "metadata": {},
   "source": [
    "**2. We also want to look at examples we got completely wrong since that could point to a systematic bias in the data/model. It could also help us find examples in the dataset that are mislabeled by human annotators**"
   ]
  },
  {
   "cell_type": "code",
   "execution_count": null,
   "metadata": {},
   "outputs": [],
   "source": [
    "tagger.add_tag(\"RTE/dev.tsv:239\", 'synonyms')"
   ]
  },
  {
   "cell_type": "code",
   "execution_count": null,
   "metadata": {
    "scrolled": false
   },
   "outputs": [],
   "source": [
    "print(\"\\033[1mVERY WRONG\\033[0;0m\")\n",
    "print_very_wrong(df_error, thresh=0.8, n=30)"
   ]
  },
  {
   "cell_type": "code",
   "execution_count": null,
   "metadata": {
    "scrolled": true
   },
   "outputs": [],
   "source": [
    "print(\"\\033[1mVERY RIGHT\\033[0;0m\")\n",
    "print_very_right(df_error, thresh=0.9, n=3)"
   ]
  },
  {
   "cell_type": "markdown",
   "metadata": {},
   "source": [
    "**3. To find systematic errors, we can also look for correlations between certain features and the incorrectness a la Socratic**\n",
    "\n",
    "\n",
    "We can make this way more sophisticated by perhaps using embeddings instead of this simple [BoW featurization](https://scikit-learn.org/stable/modules/generated/sklearn.feature_extraction.text.CountVectorizer.html#sklearn.feature_extraction.text.CountVectorizer)."
   ]
  },
  {
   "cell_type": "code",
   "execution_count": null,
   "metadata": {
    "scrolled": true
   },
   "outputs": [],
   "source": [
    "print(\"\\033[1mSYSTEMATIC EXAMPLES\\033[0;0m\")\n",
    "for i in range(3):\n",
    "    print_systematic_wrong(df_error)"
   ]
  },
  {
   "cell_type": "markdown",
   "metadata": {},
   "source": [
    "# BH LFs"
   ]
  },
  {
   "cell_type": "code",
   "execution_count": null,
   "metadata": {},
   "outputs": [],
   "source": [
    "from metal.mmtl.debugging.utils import print_row, apply_lfs_to_df, view_matches\n",
    "from metal.mmtl.debugging.lf_helpers import regex_present"
   ]
  },
  {
   "cell_type": "code",
   "execution_count": null,
   "metadata": {},
   "outputs": [],
   "source": [
    "def LF_accuse(row):\n",
    "    return 2 if regex_present(row, \"accuse\") else 0\n",
    "\n",
    "def LF_number_orphan(row):\n",
    "    \"\"\"Vote negative if sentence2 contains numbers not in sentence1\"\"\"\n",
    "    sentence1_nums = set([int(s) for s in row[\"sentence1\"].split() if s.isdigit()])\n",
    "    sentence2_nums = set([int(s) for s in row[\"sentence2\"].split() if s.isdigit()])\n",
    "    sentence2_only_nums = sentence2_nums - sentence1_nums\n",
    "    if len(sentence2_only_nums) > 0:\n",
    "        return 2\n",
    "    else:\n",
    "        return 0"
   ]
  },
  {
   "cell_type": "code",
   "execution_count": null,
   "metadata": {},
   "outputs": [],
   "source": [
    "lfs = [\n",
    "    LF_accuse,\n",
    "    LF_number_orphan\n",
    "]"
   ]
  },
  {
   "cell_type": "code",
   "execution_count": null,
   "metadata": {
    "scrolled": false
   },
   "outputs": [],
   "source": [
    "L, Y = apply_lfs_to_df(df_error, lfs)"
   ]
  },
  {
   "cell_type": "code",
   "execution_count": null,
   "metadata": {
    "scrolled": false
   },
   "outputs": [],
   "source": [
    "view_matches(df_error, lfs[1], n=1)"
   ]
  },
  {
   "cell_type": "code",
   "execution_count": null,
   "metadata": {},
   "outputs": [],
   "source": [
    "from scipy.sparse import csr_matrix\n",
    "from metal.analysis import lf_summary\n",
    "\n",
    "Y_cat = convert_labels(Y, \"onezero\", \"categorical\")\n",
    "lf_summary(csr_matrix(L), Y_cat)"
   ]
  },
  {
   "cell_type": "markdown",
   "metadata": {},
   "source": [
    "## Designing Labeling Functions"
   ]
  },
  {
   "cell_type": "markdown",
   "metadata": {},
   "source": [
    "**1. Number Based LF**\n",
    "\n",
    "Our model tends to fail when there are numbers involved in the two sentences. We can look for the same number being repeated in both sentences as an LF"
   ]
  },
  {
   "cell_type": "code",
   "execution_count": null,
   "metadata": {},
   "outputs": [],
   "source": [
    "def LF_number(idx):\n",
    "    sentence1_nums = [int(s) for s in df_error['sentence1'][idx].split() if s.isdigit()]\n",
    "    sentence2_nums = [int(s) for s in df_error['sentence2'][idx].split() if s.isdigit()]\n",
    "    common_nums = len(set(sentence1_nums).intersection(set(sentence2_nums)))\n",
    "    \n",
    "    if (sentence1_nums == []) or (sentence2_nums == []):\n",
    "        return 0\n",
    "    \n",
    "    if common_nums > 0:\n",
    "        return 2\n",
    "    else:\n",
    "        return 1"
   ]
  },
  {
   "cell_type": "code",
   "execution_count": null,
   "metadata": {},
   "outputs": [],
   "source": [
    "print_row(df_error.iloc[70])\n",
    "print(\"LF_label: \", LF_number(70)-1)\n",
    "\n",
    "print()\n",
    "print()\n",
    "print_row(df_error.iloc[254])\n",
    "print(\"LF_label: \", LF_number(254)-1)"
   ]
  },
  {
   "cell_type": "markdown",
   "metadata": {},
   "source": [
    "**2. Edit Distance Based LF**\n",
    "\n",
    "Our model tends to vote entailment when one sentence is long and the other is short. We can focus on this slice and flip the labelt o vote no entailment even when the number of words is the same."
   ]
  },
  {
   "cell_type": "code",
   "execution_count": null,
   "metadata": {},
   "outputs": [],
   "source": [
    "def levenshteinDistance(s1, s2):\n",
    "    if len(s1) > len(s2):\n",
    "        s1, s2 = s2, s1\n",
    "\n",
    "    distances = range(len(s1) + 1)\n",
    "    for i2, c2 in enumerate(s2):\n",
    "        distances_ = [i2+1]\n",
    "        for i1, c1 in enumerate(s1):\n",
    "            if c1 == c2:\n",
    "                distances_.append(distances[i1])\n",
    "            else:\n",
    "                distances_.append(1 + min((distances[i1], distances[i1 + 1], distances_[-1])))\n",
    "        distances = distances_\n",
    "    return distances[-1]\n",
    "\n",
    "from collections import Counter\n",
    "def common_words(s1,s2):\n",
    "    s1_set = set(Counter(s1.split()))\n",
    "    s2_set = set(Counter(s2.split()))\n",
    "    return len(s1_set.intersection(s2_set))/float(min(len(s1_set),len(s2_set)))"
   ]
  },
  {
   "cell_type": "code",
   "execution_count": null,
   "metadata": {},
   "outputs": [],
   "source": [
    "def LF_words(idx):\n",
    "    ratio = common_words(df_error['sentence1'][idx], df_error['sentence2'][idx])\n",
    "    if ratio < 0.3:\n",
    "        return 1\n",
    "    if (ratio <= 1.0) and (ratio > 0.4):\n",
    "        return 2\n",
    "    else:\n",
    "        return 0"
   ]
  },
  {
   "cell_type": "code",
   "execution_count": null,
   "metadata": {},
   "outputs": [],
   "source": [
    "print_row(df_error.iloc[150])\n",
    "print(\"LF_label: \", LF_words(150)-1)\n",
    "\n",
    "print()\n",
    "print()\n",
    "print_row(df_error.iloc[95])\n",
    "print(\"LF_label: \", LF_words(95)-1)"
   ]
  },
  {
   "cell_type": "markdown",
   "metadata": {},
   "source": [
    "### Analyze Labeling Functions"
   ]
  },
  {
   "cell_type": "code",
   "execution_count": null,
   "metadata": {},
   "outputs": [],
   "source": [
    "L = np.zeros((np.shape(df_error)[0],2))\n",
    "for i in range(df_error.shape[0]):\n",
    "    L[i,0] = LF_number(i)\n",
    "    L[i,1] = LF_words(i)"
   ]
  },
  {
   "cell_type": "markdown",
   "metadata": {},
   "source": [
    "Labeling Function Summary"
   ]
  },
  {
   "cell_type": "code",
   "execution_count": null,
   "metadata": {},
   "outputs": [],
   "source": [
    "from metal.analysis import lf_summary\n",
    "from scipy.sparse import csr_matrix    \n",
    "\n",
    "L_sparse = csr_matrix(L)\n",
    "lf_summary(L_sparse,Y=df_error.label+1)"
   ]
  },
  {
   "cell_type": "code",
   "execution_count": null,
   "metadata": {},
   "outputs": [],
   "source": [
    "incorrect = set(np.where(df_error.is_wrong == True)[0])\n",
    "LF1_set = set(np.where(L[:,0]-1. == df_error.label)[0])\n",
    "LF2_set = set(np.where(L[:,1]-1. == df_error.label)[0])\n",
    "\n",
    "print(\"Percentage Corrected by LF_num: \", 100.*len(LF1_set.intersection(incorrect))/float(len(incorrect)))\n",
    "print(\"Percentage Corrected by LF_words: \", 100.*len(LF2_set.intersection(incorrect))/float(len(incorrect)))"
   ]
  },
  {
   "cell_type": "code",
   "execution_count": null,
   "metadata": {},
   "outputs": [],
   "source": []
  },
  {
   "cell_type": "markdown",
   "metadata": {},
   "source": [
    "# Scratch"
   ]
  },
  {
   "cell_type": "code",
   "execution_count": null,
   "metadata": {},
   "outputs": [],
   "source": []
  }
 ],
 "metadata": {
  "kernelspec": {
   "display_name": "Python (metal)",
   "language": "python",
   "name": "metal"
  },
  "language_info": {
   "codemirror_mode": {
    "name": "ipython",
    "version": 3
   },
   "file_extension": ".py",
   "mimetype": "text/x-python",
   "name": "python",
   "nbconvert_exporter": "python",
   "pygments_lexer": "ipython3",
   "version": "3.6.7"
  }
 },
 "nbformat": 4,
 "nbformat_minor": 2
}
