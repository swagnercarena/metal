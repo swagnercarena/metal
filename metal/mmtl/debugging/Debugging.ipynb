{
 "cells": [
  {
   "cell_type": "code",
   "execution_count": 1,
   "metadata": {},
   "outputs": [
    {
     "name": "stdout",
     "output_type": "stream",
     "text": [
      "The autoreload extension is already loaded. To reload it, use:\n",
      "  %reload_ext autoreload\n",
      "Better speed can be achieved with apex installed from https://www.github.com/nvidia/apex.\n"
     ]
    }
   ],
   "source": [
    "%load_ext autoreload\n",
    "%autoreload 2\n",
    "%matplotlib inline\n",
    "\n",
    "import torch \n",
    "import matplotlib.pyplot as plt\n",
    "import numpy as np\n",
    "import pandas as pd\n",
    "\n",
    "from utils import *"
   ]
  },
  {
   "cell_type": "markdown",
   "metadata": {},
   "source": [
    "### Initialize Tagger"
   ]
  },
  {
   "cell_type": "code",
   "execution_count": 17,
   "metadata": {},
   "outputs": [],
   "source": [
    "from tagger import Tagger\n",
    "tagger = Tagger()"
   ]
  },
  {
   "cell_type": "markdown",
   "metadata": {},
   "source": [
    "### Load Model and Data"
   ]
  },
  {
   "cell_type": "code",
   "execution_count": 2,
   "metadata": {},
   "outputs": [],
   "source": [
    "model_path = '/dfs/scratch0/chami/metal/logs/2019_02_20/RTE_21_25_34/'\n",
    "task_name = 'RTE'\n",
    "split = 'dev'\n",
    "filepath = f'{task_name}_{split}_error_analysis.tsv'"
   ]
  },
  {
   "cell_type": "code",
   "execution_count": 3,
   "metadata": {},
   "outputs": [
    {
     "name": "stdout",
     "output_type": "stream",
     "text": [
      "Could not find kwarg \"generate_uids\" in destination dict.\n",
      "Using random seed: 454012\n",
      "Loading RTE Dataset\n"
     ]
    },
    {
     "data": {
      "application/vnd.jupyter.widget-view+json": {
       "model_id": "c3c63cd595dc43298ec0355eec008530",
       "version_major": 2,
       "version_minor": 0
      },
      "text/plain": [
       "HBox(children=(IntProgress(value=0, max=277), HTML(value='')))"
      ]
     },
     "metadata": {},
     "output_type": "display_data"
    },
    {
     "name": "stdout",
     "output_type": "stream",
     "text": [
      "\n",
      "Creating dataframe\n"
     ]
    },
    {
     "name": "stderr",
     "output_type": "stream",
     "text": [
      "277it [00:10, 25.51it/s]\n"
     ]
    },
    {
     "name": "stdout",
     "output_type": "stream",
     "text": [
      "Created dataframe\n",
      "Saved dataframe to:  RTE_dev_error_analysis.tsv\n"
     ]
    }
   ],
   "source": [
    "# Load model and data\n",
    "model, dl = load_data_and_model(model_path,task_name,split)\n",
    "\n",
    "# Create DataFrame of Raw Data, Predictions, and Labels\n",
    "print('Creating dataframe')\n",
    "df_error = create_dataframe(task_name, model, dl)\n",
    "print('Created dataframe')\n",
    "\n",
    "# Save (and reload) DataFrame\n",
    "csv_path = '/'.join(model_path.split('/')[0:-1])\n",
    "save_dataframe(df_error, filepath)"
   ]
  },
  {
   "cell_type": "code",
   "execution_count": 4,
   "metadata": {},
   "outputs": [],
   "source": [
    "df_error = load_dataframe(filepath)"
   ]
  },
  {
   "cell_type": "code",
   "execution_count": 5,
   "metadata": {},
   "outputs": [
    {
     "data": {
      "text/html": [
       "<div>\n",
       "<style scoped>\n",
       "    .dataframe tbody tr th:only-of-type {\n",
       "        vertical-align: middle;\n",
       "    }\n",
       "\n",
       "    .dataframe tbody tr th {\n",
       "        vertical-align: top;\n",
       "    }\n",
       "\n",
       "    .dataframe thead th {\n",
       "        text-align: right;\n",
       "    }\n",
       "</style>\n",
       "<table border=\"1\" class=\"dataframe\">\n",
       "  <thead>\n",
       "    <tr style=\"text-align: right;\">\n",
       "      <th></th>\n",
       "      <th>Unnamed: 0</th>\n",
       "      <th>sentence1</th>\n",
       "      <th>sentence2</th>\n",
       "      <th>score</th>\n",
       "      <th>label</th>\n",
       "      <th>uid</th>\n",
       "      <th>pred</th>\n",
       "      <th>is_wrong</th>\n",
       "    </tr>\n",
       "  </thead>\n",
       "  <tbody>\n",
       "    <tr>\n",
       "      <th>0</th>\n",
       "      <td>0</td>\n",
       "      <td>dana reeve , the widow of the actor christoph...</td>\n",
       "      <td>christopher reeve had an accident .</td>\n",
       "      <td>0.003992</td>\n",
       "      <td>0</td>\n",
       "      <td>RTE/dev.tsv:2</td>\n",
       "      <td>0</td>\n",
       "      <td>False</td>\n",
       "    </tr>\n",
       "    <tr>\n",
       "      <th>1</th>\n",
       "      <td>1</td>\n",
       "      <td>yet , we now are discovering that antibiotics...</td>\n",
       "      <td>bacteria is winning the war against antibioti...</td>\n",
       "      <td>0.003810</td>\n",
       "      <td>1</td>\n",
       "      <td>RTE/dev.tsv:3</td>\n",
       "      <td>0</td>\n",
       "      <td>True</td>\n",
       "    </tr>\n",
       "    <tr>\n",
       "      <th>2</th>\n",
       "      <td>2</td>\n",
       "      <td>cairo is now home to some 15 million people -...</td>\n",
       "      <td>15 million tonnes of rubbish are produced dai...</td>\n",
       "      <td>0.995439</td>\n",
       "      <td>0</td>\n",
       "      <td>RTE/dev.tsv:4</td>\n",
       "      <td>1</td>\n",
       "      <td>True</td>\n",
       "    </tr>\n",
       "    <tr>\n",
       "      <th>3</th>\n",
       "      <td>3</td>\n",
       "      <td>the ami ##sh community in pennsylvania , whic...</td>\n",
       "      <td>pennsylvania has the biggest ami ##sh communi...</td>\n",
       "      <td>0.005520</td>\n",
       "      <td>0</td>\n",
       "      <td>RTE/dev.tsv:5</td>\n",
       "      <td>0</td>\n",
       "      <td>False</td>\n",
       "    </tr>\n",
       "    <tr>\n",
       "      <th>4</th>\n",
       "      <td>4</td>\n",
       "      <td>security forces were on high alert after an e...</td>\n",
       "      <td>security forces were on high alert after a ca...</td>\n",
       "      <td>0.993684</td>\n",
       "      <td>1</td>\n",
       "      <td>RTE/dev.tsv:6</td>\n",
       "      <td>1</td>\n",
       "      <td>False</td>\n",
       "    </tr>\n",
       "  </tbody>\n",
       "</table>\n",
       "</div>"
      ],
      "text/plain": [
       "   Unnamed: 0                                          sentence1  \\\n",
       "0           0   dana reeve , the widow of the actor christoph...   \n",
       "1           1   yet , we now are discovering that antibiotics...   \n",
       "2           2   cairo is now home to some 15 million people -...   \n",
       "3           3   the ami ##sh community in pennsylvania , whic...   \n",
       "4           4   security forces were on high alert after an e...   \n",
       "\n",
       "                                           sentence2     score  label  \\\n",
       "0               christopher reeve had an accident .   0.003992      0   \n",
       "1   bacteria is winning the war against antibioti...  0.003810      1   \n",
       "2   15 million tonnes of rubbish are produced dai...  0.995439      0   \n",
       "3   pennsylvania has the biggest ami ##sh communi...  0.005520      0   \n",
       "4   security forces were on high alert after a ca...  0.993684      1   \n",
       "\n",
       "             uid  pred  is_wrong  \n",
       "0  RTE/dev.tsv:2     0     False  \n",
       "1  RTE/dev.tsv:3     0      True  \n",
       "2  RTE/dev.tsv:4     1      True  \n",
       "3  RTE/dev.tsv:5     0     False  \n",
       "4  RTE/dev.tsv:6     1     False  "
      ]
     },
     "execution_count": 5,
     "metadata": {},
     "output_type": "execute_result"
    }
   ],
   "source": [
    "df_error.head()"
   ]
  },
  {
   "cell_type": "markdown",
   "metadata": {},
   "source": [
    "## Sandbox for Error Analysis"
   ]
  },
  {
   "cell_type": "markdown",
   "metadata": {},
   "source": [
    "**0. Some basic statistics.**"
   ]
  },
  {
   "cell_type": "markdown",
   "metadata": {},
   "source": [
    "Confusion Matrix and Performance Metrics"
   ]
  },
  {
   "cell_type": "code",
   "execution_count": 6,
   "metadata": {},
   "outputs": [
    {
     "name": "stdout",
     "output_type": "stream",
     "text": [
      "        y=1    y=2   \n",
      " l=1  *0.721  0.279  \n",
      " l=2   0.241 *0.759  \n",
      "\n",
      "Accuracy: 0.736\n",
      "Precision: 0.721\n",
      "Recall: 0.815\n",
      "F1: 0.765\n"
     ]
    }
   ],
   "source": [
    "from metal.analysis import confusion_matrix\n",
    "from metal.utils import convert_labels\n",
    "\n",
    "Y_gold = convert_labels(df_error['label'].values, \"onezero\", \"categorical\")\n",
    "Y_preds = convert_labels(df_error['pred'].values, \"onezero\", \"categorical\")\n",
    "Y_probs = np.vstack([df_error['score'].values, 1 - df_error['score'].values]).transpose()\n",
    "confusion_matrix(Y_gold, Y_preds, pretty_print=True, normalize=True)\n",
    "print()\n",
    "\n",
    "from metal.metrics import metric_score\n",
    "metric_list = ['accuracy','precision', 'recall', 'f1']\n",
    "\n",
    "for metric in metric_list:\n",
    "    score = metric_score(Y_gold, Y_preds, metric, probs=Y_probs)\n",
    "    print(f\"{metric.capitalize()}: {score:.3f}\")"
   ]
  },
  {
   "cell_type": "markdown",
   "metadata": {},
   "source": [
    "Plotting Predictions and Predicted Probabilistic Label Distribution"
   ]
  },
  {
   "cell_type": "code",
   "execution_count": 7,
   "metadata": {},
   "outputs": [
    {
     "data": {
      "image/png": "[encoded data removed]",
      "text/plain": [
       "<Figure size 432x288 with 1 Axes>"
      ]
     },
     "metadata": {
      "needs_background": "light"
     },
     "output_type": "display_data"
    },
    {
     "name": "stdout",
     "output_type": "stream",
     "text": [
      "Accuracy:  0.7364620938628159\n"
     ]
    },
    {
     "data": {
      "image/png": "[encoded data removed]",
      "text/plain": [
       "<Figure size 432x288 with 1 Axes>"
      ]
     },
     "metadata": {
      "needs_background": "light"
     },
     "output_type": "display_data"
    }
   ],
   "source": [
    "from metal.contrib.visualization.analysis import (\n",
    "        plot_predictions_histogram, \n",
    "        plot_probabilities_histogram,\n",
    "        plot_calibration_histogram\n",
    "    )\n",
    "plot_predictions_histogram(Y_preds, Y_gold, title=\"Label Distribution\")\n",
    "plot_calibration_histogram(Y_probs, Y_gold, title=\"Probablistic Label Distribution\", legend=[])"
   ]
  },
  {
   "cell_type": "markdown",
   "metadata": {},
   "source": [
    "**1. We want to look at examples that are \"barely\" wrong and \"barely\" right since we have hope for boosts here.**"
   ]
  },
  {
   "cell_type": "code",
   "execution_count": 8,
   "metadata": {},
   "outputs": [
    {
     "name": "stdout",
     "output_type": "stream",
     "text": [
      "\u001b[1mBARELY WRONG\u001b[0;0m\n",
      "No matches were found for the given criteria.\n",
      "\n",
      "\u001b[1mBARELY RIGHT\u001b[0;0m\n",
      "7 matches were found with the given criteria.\n",
      "\n",
      "UID:  RTE/dev.tsv:16\n",
      "sentence1: \t take consumer products giant pro ##cter and gamble . even with a $ 1 . 8 billion research and development budget , it still manages 500 active partnerships each year , many of them with small companies . \n",
      "sentence2: \t pro ##cter and gamble spends $ 1 . 8 billion for research and development . \n",
      "score: \t0.5972\n",
      "label: \t1\n",
      "\n",
      "UID:  RTE/dev.tsv:221\n",
      "sentence1: \t napkin ##s , invitations and plain old paper cost more than they did a month ago . \n",
      "sentence2: \t the cost of paper is rising . \n",
      "score: \t0.6086\n",
      "label: \t1\n",
      "\n",
      "UID:  RTE/dev.tsv:141\n",
      "sentence1: \t los angeles county probation officials say they are now studying how other counties recover juvenile detention costs , after admitting they mistakenly billed parents for days when youths were held in probation camps and halls . by law , california counties can bill parents and legal guardians for some daily costs of det ##ain ##ing youths , but only those whose parents can afford to pay . last year , more than 20 , 000 youths were admitted to probation camps and halls , and l . a . county billed parents a daily charge of $ 11 . 94 for camps , $ 23 . 63 for halls . \n",
      "sentence2: \t in los angeles county all parents have to pay the detention costs of their children . \n",
      "score: \t0.4265\n",
      "label: \t0\n",
      "\n"
     ]
    }
   ],
   "source": [
    "print(\"\\033[1mBARELY WRONG\\033[0;0m\")\n",
    "print_barely_wrong(df_error, thresh=0.2, n=3)\n",
    "\n",
    "print()\n",
    "\n",
    "print(\"\\033[1mBARELY RIGHT\\033[0;0m\")\n",
    "print_barely_right(df_error, thresh=0.2, n=3)"
   ]
  },
  {
   "cell_type": "markdown",
   "metadata": {},
   "source": [
    "**2. We also want to look at examples we got completely wrong since that could point to a systematic bias in the data/model. It could also help us find examples in the dataset that are mislabeled by human annotators**"
   ]
  },
  {
   "cell_type": "code",
   "execution_count": 9,
   "metadata": {},
   "outputs": [
    {
     "name": "stdout",
     "output_type": "stream",
     "text": [
      "\u001b[1mVERY WRONG\u001b[0;0m\n",
      "69 matches were found with the given criteria.\n",
      "\n",
      "UID:  RTE/dev.tsv:151\n",
      "sentence1: \t jerry reins ##dorf ( born february 25 1936 in brooklyn , new york ) is the owner of chicago white sox and the chicago bulls . recently , he helped the white sox win the 2005 world series and , in the process , collected his seventh championship ring overall ( the first six were all with the bulls in the 1990s ) , becoming the third owner in the history of north american sports to win a championship in two different sports . \n",
      "sentence2: \t jerry reins ##dorf has won 7 championships . \n",
      "score: \t0.0047\n",
      "label: \t1\n",
      "\n",
      "UID:  RTE/dev.tsv:212\n",
      "sentence1: \t for women earning 22 , 000 a year , the total pay accumulated after six months maternity leave would be just 5 , 300 in the uk and 5 , 850 in ireland . en ##ti ##tlement ##s in germany would also be relatively low , at 5 , 900 , along with those in france , spain and the netherlands , all at 6 , 750 . at the other end of the scale , pay received after six months leave in italy would be 9 , 150 while in denmark and norway it would be as much as 11 , 000 . \n",
      "sentence2: \t maternity leave varies in europe . \n",
      "score: \t0.0184\n",
      "label: \t1\n",
      "\n",
      "UID:  RTE/dev.tsv:140\n",
      "sentence1: \t note that sb ##b , cf ##f and ff ##s stand out for the main railway company , in german , french and italian . \n",
      "sentence2: \t the french railway company is called s ##nc ##f . \n",
      "score: \t0.9851\n",
      "label: \t0\n",
      "\n",
      "\u001b[1mVERY RIGHT\u001b[0;0m\n",
      "188 matches were found with the given criteria.\n",
      "\n",
      "UID:  RTE/dev.tsv:45\n",
      "sentence1: \t pi ##bu ##l song ##gram was the pro - japanese military dictator of thailand during world war 2 . \n",
      "sentence2: \t pi ##bu ##l was the dictator of thailand . \n",
      "score: \t0.9968\n",
      "label: \t1\n",
      "\n",
      "UID:  RTE/dev.tsv:271\n",
      "sentence1: \t in the history of art , prehistoric art is all art produced in pre ##lite ##rate cultures ( pre ##his ##tory ) , beginning somewhere in very late geological history . \n",
      "sentence2: \t prehistoric art discovered in south africa . \n",
      "score: \t0.0043\n",
      "label: \t0\n",
      "\n",
      "UID:  RTE/dev.tsv:81\n",
      "sentence1: \t the west has preferred to focus on endangered animals , rather than endangered humans . african elephants are hunted down and stripped of tu ##sk ##s and hidden by po ##ache ##rs . their numbers in africa slumped from 1 . 2 ##m to 600 , 000 in a decade until cites - the convention on international trade in endangered species - banned the trade in ivory . \n",
      "sentence2: \t african elephants are endangered by ivory po ##ache ##rs . \n",
      "score: \t0.9973\n",
      "label: \t1\n",
      "\n"
     ]
    }
   ],
   "source": [
    "print(\"\\033[1mVERY WRONG\\033[0;0m\")\n",
    "print_very_wrong(df_error, thresh=0.9, n=3)\n",
    "\n",
    "print(\"\\033[1mVERY RIGHT\\033[0;0m\")\n",
    "print_very_right(df_error, thresh=0.9, n=3)"
   ]
  },
  {
   "cell_type": "markdown",
   "metadata": {},
   "source": [
    "**3. To find systematic errors, we can also look for correlations between certain features and the incorrectness a la Socratic**\n",
    "\n",
    "\n",
    "We can make this way more sophisticated by perhaps using embeddings instead of this simple [BoW featurization](https://scikit-learn.org/stable/modules/generated/sklearn.feature_extraction.text.CountVectorizer.html#sklearn.feature_extraction.text.CountVectorizer)."
   ]
  },
  {
   "cell_type": "code",
   "execution_count": 10,
   "metadata": {},
   "outputs": [
    {
     "name": "stdout",
     "output_type": "stream",
     "text": [
      "\u001b[1mSYSTEMATIC EXAMPLES\u001b[0;0m\n",
      "award winning\n",
      "supreme court\n",
      "new government\n",
      "22 year old\n"
     ]
    },
    {
     "name": "stderr",
     "output_type": "stream",
     "text": [
      "/dfs/scratch0/bradenjh/anaconda3/envs/metal/lib/python3.6/site-packages/sklearn/linear_model/logistic.py:433: FutureWarning: Default solver will be changed to 'lbfgs' in 0.22. Specify a solver to silence this warning.\n",
      "  FutureWarning)\n"
     ]
    },
    {
     "name": "stdout",
     "output_type": "stream",
     "text": [
      "patti nson\n",
      "\n",
      "8 matches were found with the given criteria.\n",
      "\n",
      "UID:  RTE/dev.tsv:77\n",
      "sentence1: \t a closely divided u . s . supreme court said on thursday its 2002 ruling that ju ##ries and not judges must impose a death sentence applies only to future cases , a decision that may affect more than 100 death row inmates . \n",
      "sentence2: \t the supreme court decided that only judges can impose the death sentence . \n",
      "score: \t0.9890\n",
      "label: \t0\n",
      "\n",
      "award winning\n",
      "supreme court said\n",
      "new government\n",
      "22 year old\n",
      "mark antony\n",
      "\n",
      "8 matches were found with the given criteria.\n",
      "\n",
      "UID:  RTE/dev.tsv:247\n",
      "sentence1: \t new york boasts the largest number of billionaire ##s , with 40 residing in the big apple . the world ' s youngest billionaire is 22 - year - old hind hari ##ri , daughter of assassinated former lebanese prime minister raf ##ik hari ##ri . \n",
      "sentence2: \t the number of billionaire ##s increases . \n",
      "score: \t0.9920\n",
      "label: \t0\n",
      "\n",
      "award winning\n",
      "new government\n",
      "supreme court said\n",
      "22 year old\n",
      "mark antony\n",
      "\n",
      "8 matches were found with the given criteria.\n",
      "\n",
      "UID:  RTE/dev.tsv:247\n",
      "sentence1: \t new york boasts the largest number of billionaire ##s , with 40 residing in the big apple . the world ' s youngest billionaire is 22 - year - old hind hari ##ri , daughter of assassinated former lebanese prime minister raf ##ik hari ##ri . \n",
      "sentence2: \t the number of billionaire ##s increases . \n",
      "score: \t0.9920\n",
      "label: \t0\n",
      "\n"
     ]
    }
   ],
   "source": [
    "print(\"\\033[1mSYSTEMATIC EXAMPLES\\033[0;0m\")\n",
    "for i in range(3):\n",
    "    print_systematic_wrong(df_error)"
   ]
  },
  {
   "cell_type": "markdown",
   "metadata": {},
   "source": [
    "## Designing Labeling Functions"
   ]
  },
  {
   "cell_type": "markdown",
   "metadata": {},
   "source": [
    "**1. Number Based LF**\n",
    "\n",
    "Our model tends to fail when there are numbers involved in the two sentences. We can look for the same number being repeated in both sentences as an LF"
   ]
  },
  {
   "cell_type": "code",
   "execution_count": 11,
   "metadata": {},
   "outputs": [],
   "source": [
    "def LF_number(idx):\n",
    "    sentence1_nums = [int(s) for s in df_error['sentence1'][idx].split() if s.isdigit()]\n",
    "    sentence2_nums = [int(s) for s in df_error['sentence2'][idx].split() if s.isdigit()]\n",
    "    common_nums = len(set(sentence1_nums).intersection(set(sentence2_nums)))\n",
    "    \n",
    "    if (sentence1_nums == []) or (sentence2_nums == []):\n",
    "        return 0\n",
    "    \n",
    "    if common_nums > 0:\n",
    "        return 2\n",
    "    else:\n",
    "        return 1"
   ]
  },
  {
   "cell_type": "code",
   "execution_count": 12,
   "metadata": {},
   "outputs": [
    {
     "name": "stdout",
     "output_type": "stream",
     "text": [
      "sentence1: \t about 33 . 5 million people live in this massive con ##ur ##bation . i would guess that 95 % of the 5 , 000 officially foreign - capital firms in japan are based in tokyo . \n",
      "sentence2: \t about 33 . 5 mi ##ili ##on people live in tokyo . \n",
      "score: \t0.0056\n",
      "label: \t1\n",
      "\n",
      "LF_label:  1\n",
      "\n",
      "\n",
      "sentence1: \t monica meadows , a 22 - year - old model from atlanta , was shot in the shoulder on a subway car in new york city . \n",
      "sentence2: \t monica meadows , 23 , was shot in shoulder while riding a subway car in new york city \n",
      "score: \t0.9879\n",
      "label: \t0\n",
      "\n",
      "LF_label:  0\n"
     ]
    }
   ],
   "source": [
    "print_row(df_error.iloc[70])\n",
    "print(\"LF_label: \", LF_number(70)-1)\n",
    "\n",
    "print()\n",
    "print()\n",
    "print_row(df_error.iloc[254])\n",
    "print(\"LF_label: \", LF_number(254)-1)"
   ]
  },
  {
   "cell_type": "markdown",
   "metadata": {},
   "source": [
    "**2. Edit Distance Based LF**\n",
    "\n",
    "Our model tends to vote entailment when one sentence is long and the other is short. We can focus on this slice and flip the labelt o vote no entailment even when the number of words is the same."
   ]
  },
  {
   "cell_type": "code",
   "execution_count": 13,
   "metadata": {},
   "outputs": [],
   "source": [
    "def levenshteinDistance(s1, s2):\n",
    "    if len(s1) > len(s2):\n",
    "        s1, s2 = s2, s1\n",
    "\n",
    "    distances = range(len(s1) + 1)\n",
    "    for i2, c2 in enumerate(s2):\n",
    "        distances_ = [i2+1]\n",
    "        for i1, c1 in enumerate(s1):\n",
    "            if c1 == c2:\n",
    "                distances_.append(distances[i1])\n",
    "            else:\n",
    "                distances_.append(1 + min((distances[i1], distances[i1 + 1], distances_[-1])))\n",
    "        distances = distances_\n",
    "    return distances[-1]\n",
    "\n",
    "from collections import Counter\n",
    "def common_words(s1,s2):\n",
    "    s1_set = set(Counter(s1.split()))\n",
    "    s2_set = set(Counter(s2.split()))\n",
    "    return len(s1_set.intersection(s2_set))/float(min(len(s1_set),len(s2_set)))"
   ]
  },
  {
   "cell_type": "code",
   "execution_count": 14,
   "metadata": {},
   "outputs": [],
   "source": [
    "def LF_words(idx):\n",
    "    ratio = common_words(df_error['sentence1'][idx], df_error['sentence2'][idx])\n",
    "    if ratio < 0.3:\n",
    "        return 1\n",
    "    if (ratio <= 1.0) and (ratio > 0.4):\n",
    "        return 2\n",
    "    else:\n",
    "        return 0"
   ]
  },
  {
   "cell_type": "code",
   "execution_count": 15,
   "metadata": {},
   "outputs": [
    {
     "name": "stdout",
     "output_type": "stream",
     "text": [
      "sentence1: \t quebec woman and her mother accused of plotting to kill a four - year - old girl . \n",
      "sentence2: \t quebec woman murdered a four - year - old girl . \n",
      "score: \t0.0143\n",
      "label: \t0\n",
      "\n",
      "LF_label:  1\n",
      "\n",
      "\n",
      "sentence1: \t i asked myself how to understand the ' twilight ' s success . and i have come to the idea that when you really believe in something , sooner or later it will become real . so , i guess this is what happened with robert patti ##nson . last year he was just an unknown actor who ' s biggest role was in a pair of \" harry potter \" movies . now , not only that twilight is competing with ' harry potter ' , but robert patti ##nson is one of the most famous young actors who sucked $ 37 ##3 . 4 million from global box offices . so the movie about a vampire boy who falls in love with a normal girl , begun a real hysteria . and patti ##nson has a lot to do with it ! . \n",
      "sentence2: \t robert patti ##nson is a vampire . \n",
      "score: \t0.9955\n",
      "label: \t0\n",
      "\n",
      "LF_label:  1\n"
     ]
    }
   ],
   "source": [
    "print_row(df_error.iloc[150])\n",
    "print(\"LF_label: \", LF_words(150)-1)\n",
    "\n",
    "print()\n",
    "print()\n",
    "print_row(df_error.iloc[95])\n",
    "print(\"LF_label: \", LF_words(95)-1)"
   ]
  },
  {
   "cell_type": "markdown",
   "metadata": {},
   "source": [
    "### Analyze Labeling Functions"
   ]
  },
  {
   "cell_type": "code",
   "execution_count": 16,
   "metadata": {},
   "outputs": [],
   "source": [
    "L = np.zeros((np.shape(df_error)[0],2))\n",
    "for i in range(df_error.shape[0]):\n",
    "    L[i,0] = LF_number(i)\n",
    "    L[i,1] = LF_words(i)"
   ]
  },
  {
   "cell_type": "markdown",
   "metadata": {},
   "source": [
    "Labeling Function Summary"
   ]
  },
  {
   "cell_type": "code",
   "execution_count": 17,
   "metadata": {},
   "outputs": [
    {
     "data": {
      "text/html": [
       "<div>\n",
       "<style scoped>\n",
       "    .dataframe tbody tr th:only-of-type {\n",
       "        vertical-align: middle;\n",
       "    }\n",
       "\n",
       "    .dataframe tbody tr th {\n",
       "        vertical-align: top;\n",
       "    }\n",
       "\n",
       "    .dataframe thead th {\n",
       "        text-align: right;\n",
       "    }\n",
       "</style>\n",
       "<table border=\"1\" class=\"dataframe\">\n",
       "  <thead>\n",
       "    <tr style=\"text-align: right;\">\n",
       "      <th></th>\n",
       "      <th>Polarity</th>\n",
       "      <th>Coverage</th>\n",
       "      <th>Overlaps</th>\n",
       "      <th>Conflicts</th>\n",
       "      <th>Correct</th>\n",
       "      <th>Incorrect</th>\n",
       "      <th>Emp. Acc.</th>\n",
       "    </tr>\n",
       "  </thead>\n",
       "  <tbody>\n",
       "    <tr>\n",
       "      <th>0</th>\n",
       "      <td>[1.0, 2.0]</td>\n",
       "      <td>0.158845</td>\n",
       "      <td>0.155235</td>\n",
       "      <td>0.025271</td>\n",
       "      <td>22</td>\n",
       "      <td>22</td>\n",
       "      <td>0.500000</td>\n",
       "    </tr>\n",
       "    <tr>\n",
       "      <th>1</th>\n",
       "      <td>[1.0, 2.0]</td>\n",
       "      <td>0.949458</td>\n",
       "      <td>0.155235</td>\n",
       "      <td>0.025271</td>\n",
       "      <td>148</td>\n",
       "      <td>115</td>\n",
       "      <td>0.562738</td>\n",
       "    </tr>\n",
       "  </tbody>\n",
       "</table>\n",
       "</div>"
      ],
      "text/plain": [
       "     Polarity  Coverage  Overlaps  Conflicts  Correct  Incorrect  Emp. Acc.\n",
       "0  [1.0, 2.0]  0.158845  0.155235   0.025271       22         22   0.500000\n",
       "1  [1.0, 2.0]  0.949458  0.155235   0.025271      148        115   0.562738"
      ]
     },
     "execution_count": 17,
     "metadata": {},
     "output_type": "execute_result"
    }
   ],
   "source": [
    "from metal.analysis import lf_summary\n",
    "from scipy.sparse import csr_matrix    \n",
    "\n",
    "L_sparse = csr_matrix(L)\n",
    "lf_summary(L_sparse,Y=df_error.label+1)"
   ]
  },
  {
   "cell_type": "code",
   "execution_count": 18,
   "metadata": {},
   "outputs": [
    {
     "name": "stdout",
     "output_type": "stream",
     "text": [
      "Percentage Corrected by LF_num:  6.8493150684931505\n",
      "Percentage Corrected by LF_words:  31.506849315068493\n"
     ]
    }
   ],
   "source": [
    "incorrect = set(np.where(df_error.is_wrong == True)[0])\n",
    "LF1_set = set(np.where(L[:,0]-1. == df_error.label)[0])\n",
    "LF2_set = set(np.where(L[:,1]-1. == df_error.label)[0])\n",
    "\n",
    "print(\"Percentage Corrected by LF_num: \", 100.*len(LF1_set.intersection(incorrect))/float(len(incorrect)))\n",
    "print(\"Percentage Corrected by LF_words: \", 100.*len(LF2_set.intersection(incorrect))/float(len(incorrect)))"
   ]
  },
  {
   "cell_type": "markdown",
   "metadata": {},
   "source": [
    "## Using Model for Task A to Predict on Train Set for Task B"
   ]
  },
  {
   "cell_type": "markdown",
   "metadata": {},
   "source": [
    "We start with QNLI and RTE since those are both about `entailment` and `not_entailment`"
   ]
  },
  {
   "cell_type": "code",
   "execution_count": 19,
   "metadata": {},
   "outputs": [],
   "source": [
    "# model config (needs to be the same as parameters used for training)\n",
    "bert_model = \"bert-base-uncased\"\n",
    "max_len = 256\n",
    "bert_output_dim = 768\n",
    "max_datapoints = -1\n",
    "dl_kwargs = {\"batch_size\": 32, \"shuffle\": False}"
   ]
  },
  {
   "cell_type": "code",
   "execution_count": 20,
   "metadata": {},
   "outputs": [],
   "source": [
    "# 02/19/19\n",
    "model_paths = {\n",
    "    'MNLI_SAN': '/dfs/scratch1/senwu/mmtl/logs/checkpoints/17-2-2019/MNLI_SAN_02_27_41/',\n",
    "    'QNLI': '/dfs/scratch0/mccreery/mmtl/logs/2019_02_19/QNLI_09_56_46/',\n",
    "    'STSB': '/dfs/scratch0/mccreery/mmtl/logs/2019_02_19/STSB_09_46_46/',\n",
    "    'SST2': '/dfs/scratch0/mccreery/mmtl/logs/2019_02_19/SST2_06_01_35/',\n",
    "    'COLA': '/dfs/scratch0/mccreery/mmtl/logs/2019_02_19/COLA_05_49_39/',\n",
    "    'RTE':'/dfs/scratch0/mccreery/mmtl/logs/2019_02_19/RTE_06_32_37/',\n",
    "    'WNLI': '/dfs/scratch0/mccreery/mmtl/logs/2019_02_19/WNLI_06_38_32/',\n",
    "    'QQP': '/dfs/scratch0/mccreery/mmtl/logs/2019_02_19/QQP_06_47_48/',\n",
    "    'MRPC':'/dfs/scratch0/mccreery/mmtl/logs/2019_02_19/MRPC_09_40_25/'\n",
    "}"
   ]
  },
  {
   "cell_type": "code",
   "execution_count": 21,
   "metadata": {},
   "outputs": [],
   "source": [
    "# source_task_name = 'QNLI'\n",
    "# target_task_name = 'RTE'\n",
    "\n",
    "# #create source task\n",
    "# source_task = create_tasks(\n",
    "#     task_names=[source_task_name],\n",
    "#     bert_model=bert_model,\n",
    "#     max_len=max_len,\n",
    "#     dl_kwargs=dl_kwargs,\n",
    "#     splits=['test'],\n",
    "#     max_datapoints=max_datapoints,\n",
    "# )[0]\n",
    "\n",
    "# # load source model weights \n",
    "# source_model_path = os.path.join(model_paths[source_task_name], 'best_model.pth')\n",
    "# source_model = MetalModel([source_task], verbose=False, device=0)\n",
    "# source_model.load_weights(source_model_path)\n",
    "# source_model.eval()\n",
    "    \n",
    "    \n",
    "# #create target task\n",
    "# target_task = create_tasks(\n",
    "#     task_names=[target_task_name],\n",
    "#     bert_model=bert_model,\n",
    "#     max_len=max_len,\n",
    "#     dl_kwargs=dl_kwargs,\n",
    "#     splits=['train'],\n",
    "#     max_datapoints=max_datapoints,\n",
    "# )[0]\n",
    "\n",
    "# # predict on target task train set\n",
    "# target_task.name = source_task_name #HACK FOR LINE 225 in METAL_MODEL.PY\n",
    "# Y, Y_probs, Y_preds = source_model._predict_probs(\n",
    "#     target_task, split='train', return_preds=True)\n",
    "\n",
    "# # true labels for target task train set\n",
    "# Y_true = []\n",
    "# for x, y in tqdm(list(target_task.data_loaders['train'])):\n",
    "#     Y_true += list(y.numpy())"
   ]
  },
  {
   "cell_type": "code",
   "execution_count": 22,
   "metadata": {},
   "outputs": [],
   "source": [
    "# confident_idx = list(np.where(np.abs(Y_probs[:,0]-0.5) >= 0.4)[0])\n",
    "# Y_true = np.array(Y_true)\n",
    "# print (f'Accuracy of {source_task_name} model on {target_task_name}: {np.mean(Y_preds[confident_idx] == Y_true[confident_idx])}')"
   ]
  },
  {
   "cell_type": "code",
   "execution_count": null,
   "metadata": {},
   "outputs": [],
   "source": []
  }
 ],
 "metadata": {
  "kernelspec": {
   "display_name": "Python (metal)",
   "language": "python",
   "name": "metal"
  },
  "language_info": {
   "codemirror_mode": {
    "name": "ipython",
    "version": 3
   },
   "file_extension": ".py",
   "mimetype": "text/x-python",
   "name": "python",
   "nbconvert_exporter": "python",
   "pygments_lexer": "ipython3",
   "version": "3.6.7"
  }
 },
 "nbformat": 4,
 "nbformat_minor": 2
}
