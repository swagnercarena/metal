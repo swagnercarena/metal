{
 "cells": [
  {
   "cell_type": "code",
   "execution_count": 1,
   "metadata": {},
   "outputs": [],
   "source": [
    "%load_ext autoreload\n",
    "%autoreload 2"
   ]
  },
  {
   "cell_type": "code",
   "execution_count": 2,
   "metadata": {},
   "outputs": [
    {
     "name": "stdout",
     "output_type": "stream",
     "text": [
      "Better speed can be achieved with apex installed from https://www.github.com/nvidia/apex.\n"
     ]
    }
   ],
   "source": [
    "import torch\n",
    "from torch.utils.data import DataLoader, TensorDataset\n",
    "import numpy as np\n",
    "import metal\n",
    "import os\n",
    "from pytorch_pretrained_bert import BertTokenizer, BertModel\n",
    "from dataset import QQPDataset, RTEDataset, WNLIDataset, MNLIDataset"
   ]
  },
  {
   "cell_type": "code",
   "execution_count": 3,
   "metadata": {},
   "outputs": [],
   "source": [
    "# all_tasks = [\"RTE\", \"WNLI\", \"QQP\", \"MNLI\"]\n",
    "\n",
    "# task_classes = {\"RTE\":2, \"WNLI\":2, \"QQP\":2, \"MNLI\":3}\n",
    "\n",
    "# task_name = all_tasks[2]"
   ]
  },
  {
   "cell_type": "code",
   "execution_count": 4,
   "metadata": {},
   "outputs": [],
   "source": [
    "# if task_name == \"RTE\":\n",
    "#     train_ds = RTEDataset(split='train', bert_model='bert-base-uncased', max_len=128)\n",
    "#     train_dl, dev_dl = train_ds.get_dataloader(split_prop=0.8, batch_size=32)\n",
    "\n",
    "#     test_ds = RTEDataset(split='dev', bert_model='bert-base-uncased', max_len=128)\n",
    "#     test_dl = test_ds.get_dataloader(batch_size=32)\n",
    "\n",
    "# if task_name == \"WNLI\":\n",
    "#     train_ds = WNLIDataset(split='train', bert_model='bert-base-uncased', max_len=128)\n",
    "#     train_dl, dev_dl = train_ds.get_dataloader(split_prop=0.8, batch_size=32)\n",
    "\n",
    "#     test_ds = WNLIDataset(split='dev', bert_model='bert-base-uncased', max_len=128)\n",
    "#     test_dl = test_ds.get_dataloader(batch_size=32)\n",
    "\n",
    "# if task_name == \"QQP\":\n",
    "#     train_ds = QQPDataset(split='train', bert_model='bert-base-uncased', max_len=128)\n",
    "#     train_dl, dev_dl = train_ds.get_dataloader(split_prop=0.8, batch_size=32)\n",
    "\n",
    "#     test_ds = QQPDataset(split='dev', bert_model='bert-base-uncased', max_len=128)\n",
    "#     test_dl = test_ds.get_dataloader(batch_size=32)\n",
    "\n",
    "# if task_name == \"MNLI\":\n",
    "#     train_ds = MNLIDataset(split='train', bert_model='bert-base-uncased', max_len=128)\n",
    "#     train_dl, dev_dl = train_ds.get_dataloader(split_prop=0.8, batch_size=32)\n",
    "\n",
    "#     test_ds = MNLIDataset(split='dev_matched', bert_model='bert-base-uncased', max_len=128)\n",
    "#     test_dl = test_ds.get_dataloader(batch_size=32)\n",
    "    \n",
    "# dataloaders = {\n",
    "#     'train': train_dl,\n",
    "#     'valid': dev_dl,\n",
    "#     'test': test_dl\n",
    "# }"
   ]
  },
  {
   "cell_type": "code",
   "execution_count": 5,
   "metadata": {},
   "outputs": [],
   "source": [
    "# import torch.nn as nn\n",
    "\n",
    "# model = 'bert-base-uncased'\n",
    "\n",
    "# class BertEncoder(nn.Module):\n",
    "#     def __init__(self, dropout=0.1):\n",
    "#         super(BertEncoder, self).__init__()\n",
    "#         self.bert_model = BertModel.from_pretrained('bert-base-uncased')\n",
    "#         self.dropout = nn.Dropout(dropout)\n",
    "\n",
    "#     def forward(self, data):\n",
    "#         tokens, segments, mask = data\n",
    "#         _, hidden_layer = self.bert_model(tokens, segments, mask, output_all_encoded_layers=False)\n",
    "#         hidden_layer = self.dropout(hidden_layer)\n",
    "\n",
    "#         return hidden_layer"
   ]
  },
  {
   "cell_type": "code",
   "execution_count": 6,
   "metadata": {},
   "outputs": [],
   "source": [
    "# class LinearLayer(nn.Module):\n",
    "#     def __init__(self, input_size, output_size):\n",
    "#         super(LinearLayer, self).__init__()\n",
    "#         self.linear = nn.Linear(input_size, output_size)\n",
    "\n",
    "#     def forward(self, x):\n",
    "#         return self.linear(x)"
   ]
  },
  {
   "cell_type": "code",
   "execution_count": 7,
   "metadata": {},
   "outputs": [],
   "source": [
    "# hidden_bert_size=768\n",
    "\n",
    "# def get_task_head(name):\n",
    "#     return LinearLayer(hidden_bert_size, task_classes[name])\n"
   ]
  },
  {
   "cell_type": "code",
   "execution_count": 8,
   "metadata": {},
   "outputs": [
    {
     "name": "stdout",
     "output_type": "stream",
     "text": [
      "Loading RTE Dataset\n"
     ]
    },
    {
     "data": {
      "application/vnd.jupyter.widget-view+json": {
       "model_id": "db9aca5117764cc8b1573401c9209571",
       "version_major": 2,
       "version_minor": 0
      },
      "text/plain": [
       "HBox(children=(IntProgress(value=0, max=1000), HTML(value='')))"
      ]
     },
     "metadata": {},
     "output_type": "display_data"
    },
    {
     "name": "stdout",
     "output_type": "stream",
     "text": [
      "\n"
     ]
    },
    {
     "data": {
      "application/vnd.jupyter.widget-view+json": {
       "model_id": "0559f2f249914153b55fe0c45dccba5b",
       "version_major": 2,
       "version_minor": 0
      },
      "text/plain": [
       "HBox(children=(IntProgress(value=0, max=277), HTML(value='')))"
      ]
     },
     "metadata": {},
     "output_type": "display_data"
    },
    {
     "name": "stdout",
     "output_type": "stream",
     "text": [
      "\n"
     ]
    }
   ],
   "source": [
    "from metal.mmtl.task import Task\n",
    "from metal.mmtl.glue.glue_tasks import create_tasks\n",
    "\n",
    "# dataloaders = get_dataloaders(task_name)\n",
    "# task_head = get_task_head(task_name)\n",
    "\n",
    "\n",
    "# task = Task(task_name, dataloaders, BertEncoder(), task_head)\n",
    "# task = create_task('RTE')\n",
    "# task = create_task('QQP')\n",
    "# task = create_task('WNLI')\n",
    "# task = create_task('MNLI')\n",
    "# task = create_task('MRPC')\n",
    "\n",
    "# task = create_task('RTE_SAN')\n",
    "\n",
    "task_names = [\n",
    "    \"RTE_SAN\",\n",
    "]\n",
    "\n",
    "\n",
    "tasks = create_tasks(task_names,\n",
    "                     max_datapoints=1000,\n",
    "                     dl_kwargs={\n",
    "                         \"batch_size\": 16\n",
    "                     }\n",
    "                    )"
   ]
  },
  {
   "cell_type": "code",
   "execution_count": 9,
   "metadata": {},
   "outputs": [
    {
     "name": "stdout",
     "output_type": "stream",
     "text": [
      "Beginning train loop.\n",
      "Expecting a total of _approximately_ 800 examples and 50 batches per epoch from 1 tasks.\n",
      "[0.26 epo]: TRAIN:[loss=0.693] VALID:[RTE/accuracy=0.500]\n",
      "Saving model at iteration 0.26 with best (min) score 0.693\n",
      "[0.52 epo]: TRAIN:[loss=0.704] VALID:[RTE/accuracy=0.525]\n",
      "[0.78 epo]: TRAIN:[loss=0.685] VALID:[RTE/accuracy=0.565]\n",
      "Saving model at iteration 0.78 with best (min) score 0.685\n",
      "[1.04 epo]: TRAIN:[loss=0.668] VALID:[RTE/accuracy=0.555]\n",
      "Saving model at iteration 1.04 with best (min) score 0.668\n",
      "[1.30 epo]: TRAIN:[loss=0.584] VALID:[RTE/accuracy=0.625]\n",
      "Saving model at iteration 1.3 with best (min) score 0.584\n",
      "[1.56 epo]: TRAIN:[loss=0.561] VALID:[RTE/accuracy=0.600]\n",
      "Saving model at iteration 1.56 with best (min) score 0.561\n",
      "[1.82 epo]: TRAIN:[loss=0.591] VALID:[RTE/accuracy=0.620]\n",
      "[2.08 epo]: TRAIN:[loss=0.546] VALID:[RTE/accuracy=0.645]\n",
      "Saving model at iteration 2.08 with best (min) score 0.546\n",
      "[2.34 epo]: TRAIN:[loss=0.450] VALID:[RTE/accuracy=0.625]\n",
      "Saving model at iteration 2.34 with best (min) score 0.450\n",
      "[2.60 epo]: TRAIN:[loss=0.432] VALID:[RTE/accuracy=0.630]\n",
      "Saving model at iteration 2.6 with best (min) score 0.432\n",
      "[2.86 epo]: TRAIN:[loss=0.404] VALID:[RTE/accuracy=0.620]\n",
      "Saving model at iteration 2.86 with best (min) score 0.404\n"
     ]
    },
    {
     "name": "stderr",
     "output_type": "stream",
     "text": [
      "Exception ignored in: <generator object tqdm_notebook.__iter__ at 0x7fb3466d6410>\n",
      "Traceback (most recent call last):\n",
      "  File \"/dfs/scratch0/vschen/venv-mmtl/lib/python3.6/site-packages/tqdm/_tqdm_notebook.py\", line 226, in __iter__\n",
      "    self.sp(bar_style='danger')\n",
      "AttributeError: 'tqdm_notebook' object has no attribute 'sp'\n"
     ]
    },
    {
     "ename": "RuntimeError",
     "evalue": "CUDA out of memory. Tried to allocate 46.88 MiB (GPU 0; 15.90 GiB total capacity; 8.62 GiB already allocated; 12.88 MiB free; 547.56 MiB cached)",
     "output_type": "error",
     "traceback": [
      "\u001b[0;31m---------------------------------------------------------------------------\u001b[0m",
      "\u001b[0;31mRuntimeError\u001b[0m                              Traceback (most recent call last)",
      "\u001b[0;32m<ipython-input-9-73ce3488aefd>\u001b[0m in \u001b[0;36m<module>\u001b[0;34m\u001b[0m\n\u001b[1;32m     16\u001b[0m     \u001b[0;31m#checkpoint_metric=task.name + \"/valid/accuracy\",\u001b[0m\u001b[0;34m\u001b[0m\u001b[0;34m\u001b[0m\u001b[0;34m\u001b[0m\u001b[0m\n\u001b[1;32m     17\u001b[0m     \u001b[0;31m#checkpoint_metric_mode=\"max\",\u001b[0m\u001b[0;34m\u001b[0m\u001b[0;34m\u001b[0m\u001b[0;34m\u001b[0m\u001b[0m\n\u001b[0;32m---> 18\u001b[0;31m     \u001b[0mverbose\u001b[0m\u001b[0;34m=\u001b[0m\u001b[0;32mTrue\u001b[0m\u001b[0;34m,\u001b[0m\u001b[0;34m\u001b[0m\u001b[0;34m\u001b[0m\u001b[0m\n\u001b[0m\u001b[1;32m     19\u001b[0m \u001b[0;31m#     device=\"cuda\",\u001b[0m\u001b[0;34m\u001b[0m\u001b[0;34m\u001b[0m\u001b[0;34m\u001b[0m\u001b[0m\n\u001b[1;32m     20\u001b[0m )\n",
      "\u001b[0;32m/dfs/scratch1/senwu/mmtl/metal/metal/mmtl/trainer.py\u001b[0m in \u001b[0;36mtrain_model\u001b[0;34m(self, model, tasks, **kwargs)\u001b[0m\n\u001b[1;32m    193\u001b[0m                 \u001b[0;31m# Backward pass to calculate gradients\u001b[0m\u001b[0;34m\u001b[0m\u001b[0;34m\u001b[0m\u001b[0;34m\u001b[0m\u001b[0m\n\u001b[1;32m    194\u001b[0m                 \u001b[0;31m# Loss is an average loss per example\u001b[0m\u001b[0;34m\u001b[0m\u001b[0;34m\u001b[0m\u001b[0;34m\u001b[0m\u001b[0m\n\u001b[0;32m--> 195\u001b[0;31m                 \u001b[0mloss\u001b[0m\u001b[0;34m.\u001b[0m\u001b[0mbackward\u001b[0m\u001b[0;34m(\u001b[0m\u001b[0;34m)\u001b[0m\u001b[0;34m\u001b[0m\u001b[0;34m\u001b[0m\u001b[0m\n\u001b[0m\u001b[1;32m    196\u001b[0m \u001b[0;34m\u001b[0m\u001b[0m\n\u001b[1;32m    197\u001b[0m                 \u001b[0;31m# Clip gradient norm (not individual gradient magnitudes)\u001b[0m\u001b[0;34m\u001b[0m\u001b[0;34m\u001b[0m\u001b[0;34m\u001b[0m\u001b[0m\n",
      "\u001b[0;32m/dfs/scratch0/vschen/venv-mmtl/lib/python3.6/site-packages/torch/tensor.py\u001b[0m in \u001b[0;36mbackward\u001b[0;34m(self, gradient, retain_graph, create_graph)\u001b[0m\n\u001b[1;32m    100\u001b[0m                 \u001b[0mproducts\u001b[0m\u001b[0;34m.\u001b[0m \u001b[0mDefaults\u001b[0m \u001b[0mto\u001b[0m\u001b[0;31m \u001b[0m\u001b[0;31m`\u001b[0m\u001b[0;31m`\u001b[0m\u001b[0;32mFalse\u001b[0m\u001b[0;31m`\u001b[0m\u001b[0;31m`\u001b[0m\u001b[0;34m.\u001b[0m\u001b[0;34m\u001b[0m\u001b[0;34m\u001b[0m\u001b[0m\n\u001b[1;32m    101\u001b[0m         \"\"\"\n\u001b[0;32m--> 102\u001b[0;31m         \u001b[0mtorch\u001b[0m\u001b[0;34m.\u001b[0m\u001b[0mautograd\u001b[0m\u001b[0;34m.\u001b[0m\u001b[0mbackward\u001b[0m\u001b[0;34m(\u001b[0m\u001b[0mself\u001b[0m\u001b[0;34m,\u001b[0m \u001b[0mgradient\u001b[0m\u001b[0;34m,\u001b[0m \u001b[0mretain_graph\u001b[0m\u001b[0;34m,\u001b[0m \u001b[0mcreate_graph\u001b[0m\u001b[0;34m)\u001b[0m\u001b[0;34m\u001b[0m\u001b[0;34m\u001b[0m\u001b[0m\n\u001b[0m\u001b[1;32m    103\u001b[0m \u001b[0;34m\u001b[0m\u001b[0m\n\u001b[1;32m    104\u001b[0m     \u001b[0;32mdef\u001b[0m \u001b[0mregister_hook\u001b[0m\u001b[0;34m(\u001b[0m\u001b[0mself\u001b[0m\u001b[0;34m,\u001b[0m \u001b[0mhook\u001b[0m\u001b[0;34m)\u001b[0m\u001b[0;34m:\u001b[0m\u001b[0;34m\u001b[0m\u001b[0;34m\u001b[0m\u001b[0m\n",
      "\u001b[0;32m/dfs/scratch0/vschen/venv-mmtl/lib/python3.6/site-packages/torch/autograd/__init__.py\u001b[0m in \u001b[0;36mbackward\u001b[0;34m(tensors, grad_tensors, retain_graph, create_graph, grad_variables)\u001b[0m\n\u001b[1;32m     88\u001b[0m     Variable._execution_engine.run_backward(\n\u001b[1;32m     89\u001b[0m         \u001b[0mtensors\u001b[0m\u001b[0;34m,\u001b[0m \u001b[0mgrad_tensors\u001b[0m\u001b[0;34m,\u001b[0m \u001b[0mretain_graph\u001b[0m\u001b[0;34m,\u001b[0m \u001b[0mcreate_graph\u001b[0m\u001b[0;34m,\u001b[0m\u001b[0;34m\u001b[0m\u001b[0;34m\u001b[0m\u001b[0m\n\u001b[0;32m---> 90\u001b[0;31m         allow_unreachable=True)  # allow_unreachable flag\n\u001b[0m\u001b[1;32m     91\u001b[0m \u001b[0;34m\u001b[0m\u001b[0m\n\u001b[1;32m     92\u001b[0m \u001b[0;34m\u001b[0m\u001b[0m\n",
      "\u001b[0;31mRuntimeError\u001b[0m: CUDA out of memory. Tried to allocate 46.88 MiB (GPU 0; 15.90 GiB total capacity; 8.62 GiB already allocated; 12.88 MiB free; 547.56 MiB cached)"
     ]
    }
   ],
   "source": [
    "from metal.end_model import EndModel\n",
    "from metal.mmtl.metal_model import MetalModel\n",
    "from metal.mmtl.trainer import MultitaskTrainer\n",
    "\n",
    "model = MetalModel(tasks, verbose=False)\n",
    "trainer = MultitaskTrainer()\n",
    "trainer.train_model(\n",
    "    model, \n",
    "    tasks, \n",
    "    n_epochs=3, \n",
    "    lr=5e-5,\n",
    "    progress_bar=False,\n",
    "    log_every=0.25,\n",
    "    score_every=0.25,\n",
    "    checkpoint_best=True,\n",
    "    #checkpoint_metric=task.name + \"/valid/accuracy\",\n",
    "    #checkpoint_metric_mode=\"max\",\n",
    "    verbose=True,\n",
    "#     device=\"cuda\",\n",
    ")"
   ]
  },
  {
   "cell_type": "code",
   "execution_count": null,
   "metadata": {},
   "outputs": [],
   "source": [
    "# Using GPU...\n",
    "# [0.25060240963855424 epo]: TRAIN:[loss=0.475] VALID:[RTE/accuracy=0.671]\n",
    "# Saving model at iteration 0.25060240963855424 with best (min) score 0.475\n",
    "# Restoring best model from iteration 0.25060240963855424 with score 0.475\n",
    "# Finished Training\n",
    "# {'RTE/valid/accuracy': 0.6706827309236948}"
   ]
  }
 ],
 "metadata": {
  "kernelspec": {
   "display_name": "Python 3",
   "language": "python",
   "name": "python3"
  },
  "language_info": {
   "codemirror_mode": {
    "name": "ipython",
    "version": 3
   },
   "file_extension": ".py",
   "mimetype": "text/x-python",
   "name": "python",
   "nbconvert_exporter": "python",
   "pygments_lexer": "ipython3",
   "version": "3.6.7"
  }
 },
 "nbformat": 4,
 "nbformat_minor": 2
}
