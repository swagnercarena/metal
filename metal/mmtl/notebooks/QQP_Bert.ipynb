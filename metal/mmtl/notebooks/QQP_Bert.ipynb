{
 "cells": [
  {
   "cell_type": "code",
   "execution_count": 1,
   "metadata": {},
   "outputs": [],
   "source": [
    "%load_ext autoreload\n",
    "%autoreload 2"
   ]
  },
  {
   "cell_type": "code",
   "execution_count": 2,
   "metadata": {},
   "outputs": [
    {
     "name": "stdout",
     "output_type": "stream",
     "text": [
      "Better speed can be achieved with apex installed from https://www.github.com/nvidia/apex.\n"
     ]
    }
   ],
   "source": [
    "import torch\n",
    "from torch.utils.data import DataLoader, TensorDataset, Dataset\n",
    "import numpy as np\n",
    "import pandas as pd\n",
    "import metal\n",
    "import os\n",
    "from pytorch_pretrained_bert import BertTokenizer, BertModel"
   ]
  },
  {
   "cell_type": "code",
   "execution_count": 3,
   "metadata": {},
   "outputs": [],
   "source": [
    "from dataset import BERTDataset"
   ]
  },
  {
   "cell_type": "code",
   "execution_count": 4,
   "metadata": {},
   "outputs": [
    {
     "name": "stderr",
     "output_type": "stream",
     "text": [
      "100%|██████████| 635/635 [00:00<00:00, 1426.30it/s]\n",
      "100%|██████████| 71/71 [00:00<00:00, 906.87it/s]\n"
     ]
    }
   ],
   "source": [
    "model = 'bert-base-uncased' # also try bert-base-multilingual-cased (recommended)\n",
    "src_path = os.path.join(os.environ['GLUEDATA'], 'QQP/{}.tsv')\n",
    "dataloaders = {}\n",
    "for split in ['train', 'dev']: #, 'train', 'test']:\n",
    "    label_idx = 5 if split in ['train', 'dev'] else -1\n",
    "    dataset = BERTDataset(\n",
    "        src_path.format(split),\n",
    "        sent1_idx=3,\n",
    "        sent2_idx=4,\n",
    "        label_idx=label_idx,\n",
    "        skip_rows=1,\n",
    "        label_fn=lambda label: 1 if label=='0' else 2,\n",
    "        max_len=128,\n",
    "    )\n",
    "    dataloaders[split] = dataset.get_dataloader(batch_size=32)"
   ]
  },
  {
   "cell_type": "code",
   "execution_count": 5,
   "metadata": {},
   "outputs": [],
   "source": [
    "import torch.nn as nn\n",
    "from metal.end_model import EndModel\n",
    "\n",
    "hidden_dropout_prob = 0.1\n",
    "\n",
    "class BertEncoder(nn.Module):\n",
    "    def __init__(self):\n",
    "        super(BertEncoder, self).__init__()\n",
    "        self.bert_model = BertModel.from_pretrained('bert-base-uncased')\n",
    "        self.dropout = nn.Dropout(hidden_dropout_prob)\n",
    "#         for param in self.bert_model.parameters():\n",
    "#             param.requires_grad = False\n",
    "\n",
    "    def forward(self, data):\n",
    "        tokens, segments, mask = data\n",
    "        # TODO: check if we should return all layers or just last hidden representation \n",
    "        _, hidden_layer = self.bert_model(tokens, segments, mask, output_all_encoded_layers=False)\n",
    "        hidden_layer = self.dropout(hidden_layer)\n",
    "\n",
    "        return hidden_layer"
   ]
  },
  {
   "cell_type": "code",
   "execution_count": 6,
   "metadata": {},
   "outputs": [],
   "source": [
    "encoder_module = BertEncoder()\n",
    "end_model = EndModel(\n",
    "    [768, 2],\n",
    "    input_module=encoder_module,\n",
    "    seed=123,\n",
    "    skip_head=False,\n",
    "    input_relu=False,\n",
    "    input_batchnorm=False,\n",
    "    verbose=False,\n",
    "    device=torch.device(\"cuda\")\n",
    ")"
   ]
  },
  {
   "cell_type": "code",
   "execution_count": 7,
   "metadata": {
    "scrolled": false
   },
   "outputs": [
    {
     "name": "stdout",
     "output_type": "stream",
     "text": [
      "Using GPU...\n",
      "[1 bat (0.00 epo)]: TRAIN:[loss=0.741] VALID:[accuracy=0.986]\n",
      "Saving model at iteration 1 with best score 0.986\n",
      "[2 bat (0.01 epo)]: TRAIN:[loss=0.629] VALID:[accuracy=0.986]\n",
      "[3 bat (0.01 epo)]: TRAIN:[loss=0.500] VALID:[accuracy=0.986]\n",
      "[4 bat (0.02 epo)]: TRAIN:[loss=0.356] VALID:[accuracy=0.986]\n",
      "[5 bat (0.02 epo)]: TRAIN:[loss=0.251] VALID:[accuracy=0.986]\n",
      "[6 bat (0.03 epo)]: TRAIN:[loss=0.166] VALID:[accuracy=0.986]\n",
      "[7 bat (0.03 epo)]: TRAIN:[loss=0.108] VALID:[accuracy=0.986]\n",
      "[8 bat (0.04 epo)]: TRAIN:[loss=0.063] VALID:[accuracy=0.986]\n",
      "[9 bat (0.04 epo)]: TRAIN:[loss=0.047] VALID:[accuracy=0.986]\n",
      "[10 bat (0.05 epo)]: TRAIN:[loss=0.034] VALID:[accuracy=0.986]\n",
      "[11 bat (0.05 epo)]: TRAIN:[loss=0.028] VALID:[accuracy=0.986]\n",
      "[12 bat (0.06 epo)]: TRAIN:[loss=0.019] VALID:[accuracy=0.986]\n",
      "[13 bat (0.06 epo)]: TRAIN:[loss=0.013] VALID:[accuracy=0.986]\n",
      "[14 bat (0.07 epo)]: TRAIN:[loss=0.010] VALID:[accuracy=0.986]\n",
      "[15 bat (0.07 epo)]: TRAIN:[loss=0.009] VALID:[accuracy=0.986]\n",
      "[16 bat (0.08 epo)]: TRAIN:[loss=0.007] VALID:[accuracy=0.986]\n",
      "[17 bat (0.08 epo)]: TRAIN:[loss=0.006] VALID:[accuracy=0.986]\n",
      "[18 bat (0.09 epo)]: TRAIN:[loss=0.005] VALID:[accuracy=0.986]\n",
      "[19 bat (0.09 epo)]: TRAIN:[loss=0.004] VALID:[accuracy=0.986]\n",
      "[20 bat (0.09 epo)]: TRAIN:[loss=0.004] VALID:[accuracy=0.986]\n",
      "[21 bat (0.10 epo)]: TRAIN:[loss=0.187] VALID:[accuracy=0.986]\n",
      "[22 bat (0.10 epo)]: TRAIN:[loss=0.003] VALID:[accuracy=0.986]\n",
      "[23 bat (0.11 epo)]: TRAIN:[loss=0.003] VALID:[accuracy=0.986]\n",
      "[24 bat (0.11 epo)]: TRAIN:[loss=0.003] VALID:[accuracy=0.986]\n",
      "[25 bat (0.12 epo)]: TRAIN:[loss=0.003] VALID:[accuracy=0.986]\n",
      "[26 bat (0.12 epo)]: TRAIN:[loss=0.002] VALID:[accuracy=0.986]\n",
      "[27 bat (0.13 epo)]: TRAIN:[loss=0.002] VALID:[accuracy=0.986]\n",
      "[28 bat (0.13 epo)]: TRAIN:[loss=0.002] VALID:[accuracy=0.986]\n",
      "[29 bat (0.14 epo)]: TRAIN:[loss=0.002] VALID:[accuracy=0.986]\n",
      "[30 bat (0.14 epo)]: TRAIN:[loss=0.002] VALID:[accuracy=0.986]\n",
      "[31 bat (0.15 epo)]: TRAIN:[loss=0.001] VALID:[accuracy=0.986]\n",
      "[32 bat (0.15 epo)]: TRAIN:[loss=0.002] VALID:[accuracy=0.986]\n",
      "[33 bat (0.16 epo)]: TRAIN:[loss=0.001] VALID:[accuracy=0.986]\n",
      "[34 bat (0.16 epo)]: TRAIN:[loss=0.001] VALID:[accuracy=0.986]\n",
      "[35 bat (0.17 epo)]: TRAIN:[loss=0.001] VALID:[accuracy=0.986]\n",
      "[36 bat (0.17 epo)]: TRAIN:[loss=0.001] VALID:[accuracy=0.986]\n",
      "[37 bat (0.17 epo)]: TRAIN:[loss=0.001] VALID:[accuracy=0.986]\n",
      "[38 bat (0.18 epo)]: TRAIN:[loss=0.001] VALID:[accuracy=0.986]\n",
      "[39 bat (0.18 epo)]: TRAIN:[loss=0.001] VALID:[accuracy=0.986]\n",
      "[40 bat (0.19 epo)]: TRAIN:[loss=0.001] VALID:[accuracy=0.986]\n",
      "[41 bat (0.19 epo)]: TRAIN:[loss=0.225] VALID:[accuracy=0.986]\n",
      "[42 bat (0.20 epo)]: TRAIN:[loss=0.001] VALID:[accuracy=0.986]\n",
      "[43 bat (0.20 epo)]: TRAIN:[loss=0.001] VALID:[accuracy=0.986]\n",
      "[44 bat (0.21 epo)]: TRAIN:[loss=0.001] VALID:[accuracy=0.986]\n",
      "[45 bat (0.21 epo)]: TRAIN:[loss=0.002] VALID:[accuracy=0.986]\n",
      "[46 bat (0.22 epo)]: TRAIN:[loss=0.002] VALID:[accuracy=0.986]\n",
      "[47 bat (0.22 epo)]: TRAIN:[loss=0.002] VALID:[accuracy=0.986]\n",
      "[48 bat (0.23 epo)]: TRAIN:[loss=0.002] VALID:[accuracy=0.986]\n",
      "[49 bat (0.23 epo)]: TRAIN:[loss=0.002] VALID:[accuracy=0.986]\n",
      "[50 bat (0.24 epo)]: TRAIN:[loss=0.001] VALID:[accuracy=0.986]\n",
      "[51 bat (0.24 epo)]: TRAIN:[loss=0.001] VALID:[accuracy=0.986]\n",
      "[52 bat (0.25 epo)]: TRAIN:[loss=0.001] VALID:[accuracy=0.986]\n",
      "[53 bat (0.25 epo)]: TRAIN:[loss=0.001] VALID:[accuracy=0.986]\n",
      "[54 bat (0.26 epo)]: TRAIN:[loss=0.001] VALID:[accuracy=0.986]\n",
      "[55 bat (0.26 epo)]: TRAIN:[loss=0.001] VALID:[accuracy=0.986]\n",
      "[56 bat (0.26 epo)]: TRAIN:[loss=0.001] VALID:[accuracy=0.986]\n",
      "[57 bat (0.27 epo)]: TRAIN:[loss=0.001] VALID:[accuracy=0.986]\n",
      "[58 bat (0.27 epo)]: TRAIN:[loss=0.001] VALID:[accuracy=0.986]\n",
      "[59 bat (0.28 epo)]: TRAIN:[loss=0.001] VALID:[accuracy=0.986]\n",
      "[60 bat (0.28 epo)]: TRAIN:[loss=0.001] VALID:[accuracy=0.986]\n",
      "[61 bat (0.29 epo)]: TRAIN:[loss=0.195] VALID:[accuracy=0.986]\n",
      "[62 bat (0.29 epo)]: TRAIN:[loss=0.001] VALID:[accuracy=0.986]\n",
      "[63 bat (0.30 epo)]: TRAIN:[loss=0.001] VALID:[accuracy=0.986]\n",
      "[64 bat (0.30 epo)]: TRAIN:[loss=0.002] VALID:[accuracy=0.986]\n",
      "[65 bat (0.31 epo)]: TRAIN:[loss=0.002] VALID:[accuracy=0.986]\n",
      "[66 bat (0.31 epo)]: TRAIN:[loss=0.002] VALID:[accuracy=0.986]\n",
      "[67 bat (0.32 epo)]: TRAIN:[loss=0.002] VALID:[accuracy=0.986]\n",
      "[68 bat (0.32 epo)]: TRAIN:[loss=0.002] VALID:[accuracy=0.986]\n",
      "[69 bat (0.33 epo)]: TRAIN:[loss=0.002] VALID:[accuracy=0.986]\n",
      "[70 bat (0.33 epo)]: TRAIN:[loss=0.003] VALID:[accuracy=0.986]\n",
      "[71 bat (0.34 epo)]: TRAIN:[loss=0.002] VALID:[accuracy=0.986]\n",
      "[72 bat (0.34 epo)]: TRAIN:[loss=0.002] VALID:[accuracy=0.986]\n",
      "[73 bat (0.34 epo)]: TRAIN:[loss=0.002] VALID:[accuracy=0.986]\n",
      "[74 bat (0.35 epo)]: TRAIN:[loss=0.001] VALID:[accuracy=0.986]\n",
      "[75 bat (0.35 epo)]: TRAIN:[loss=0.001] VALID:[accuracy=0.986]\n",
      "[76 bat (0.36 epo)]: TRAIN:[loss=0.001] VALID:[accuracy=0.986]\n",
      "[77 bat (0.36 epo)]: TRAIN:[loss=0.001] VALID:[accuracy=0.986]\n",
      "[78 bat (0.37 epo)]: TRAIN:[loss=0.001] VALID:[accuracy=0.986]\n",
      "[79 bat (0.37 epo)]: TRAIN:[loss=0.001] VALID:[accuracy=0.986]\n",
      "[80 bat (0.38 epo)]: TRAIN:[loss=0.001] VALID:[accuracy=0.986]\n",
      "[81 bat (0.38 epo)]: TRAIN:[loss=0.221] VALID:[accuracy=0.986]\n",
      "[82 bat (0.39 epo)]: TRAIN:[loss=0.001] VALID:[accuracy=0.986]\n",
      "[83 bat (0.39 epo)]: TRAIN:[loss=0.001] VALID:[accuracy=0.986]\n",
      "[84 bat (0.40 epo)]: TRAIN:[loss=0.001] VALID:[accuracy=0.986]\n",
      "[85 bat (0.40 epo)]: TRAIN:[loss=0.001] VALID:[accuracy=0.986]\n",
      "[86 bat (0.41 epo)]: TRAIN:[loss=0.001] VALID:[accuracy=0.986]\n",
      "[87 bat (0.41 epo)]: TRAIN:[loss=0.001] VALID:[accuracy=0.986]\n",
      "[88 bat (0.42 epo)]: TRAIN:[loss=0.001] VALID:[accuracy=0.986]\n",
      "[89 bat (0.42 epo)]: TRAIN:[loss=0.001] VALID:[accuracy=0.986]\n",
      "[90 bat (0.43 epo)]: TRAIN:[loss=0.001] VALID:[accuracy=0.986]\n",
      "[91 bat (0.43 epo)]: TRAIN:[loss=0.001] VALID:[accuracy=0.986]\n",
      "[92 bat (0.43 epo)]: TRAIN:[loss=0.001] VALID:[accuracy=0.986]\n",
      "[93 bat (0.44 epo)]: TRAIN:[loss=0.001] VALID:[accuracy=0.986]\n",
      "[94 bat (0.44 epo)]: TRAIN:[loss=0.001] VALID:[accuracy=0.986]\n",
      "[95 bat (0.45 epo)]: TRAIN:[loss=0.001] VALID:[accuracy=0.986]\n",
      "[96 bat (0.45 epo)]: TRAIN:[loss=0.001] VALID:[accuracy=0.986]\n",
      "[97 bat (0.46 epo)]: TRAIN:[loss=0.001] VALID:[accuracy=0.986]\n",
      "[98 bat (0.46 epo)]: TRAIN:[loss=0.001] VALID:[accuracy=0.986]\n",
      "[99 bat (0.47 epo)]: TRAIN:[loss=0.001] VALID:[accuracy=0.986]\n",
      "[100 bat (0.47 epo)]: TRAIN:[loss=0.001] VALID:[accuracy=0.986]\n",
      "Restoring best model from iteration 1 with score 0.986\n",
      "Finished Training\n",
      "Accuracy: 0.986\n",
      "        y=1    y=2   \n",
      " l=1     0      1    \n",
      " l=2     0     70    \n"
     ]
    }
   ],
   "source": [
    "end_model.train_model(\n",
    "    dataloaders[\"train\"],\n",
    "    valid_data=dataloaders[\"dev\"],\n",
    "    lr=5e-5,\n",
    "    l2=0,\n",
    "    n_epochs=5,\n",
    "#     checkpoint_metric=\"model/train/loss\",\n",
    "    checkpoint_metric=\"valid/accuracy\",\n",
    "    log_unit=\"batches\",\n",
    "    checkpoint_metric_mode=\"max\",\n",
    "    verbose=True,\n",
    "    progress_bar=True,\n",
    ")"
   ]
  },
  {
   "cell_type": "code",
   "execution_count": 8,
   "metadata": {},
   "outputs": [
    {
     "name": "stdout",
     "output_type": "stream",
     "text": [
      "Accuracy: 0.986\n",
      "Precision: 0.000\n",
      "Recall: 0.000\n",
      "F1: 0.000\n",
      "        y=1    y=2   \n",
      " l=1     0      1    \n",
      " l=2     0     70    \n"
     ]
    },
    {
     "data": {
      "text/plain": [
       "[0.9859154929577465, 0, 0.0, 0]"
      ]
     },
     "execution_count": 8,
     "metadata": {},
     "output_type": "execute_result"
    }
   ],
   "source": [
    "# Test end model\n",
    "end_model.score(dataloaders[\"dev\"], metric=[\"accuracy\", \"precision\", \"recall\", \"f1\"])"
   ]
  },
  {
   "cell_type": "code",
   "execution_count": null,
   "metadata": {},
   "outputs": [],
   "source": []
  }
 ],
 "metadata": {
  "kernelspec": {
   "display_name": "Python 3",
   "language": "python",
   "name": "python3"
  },
  "language_info": {
   "codemirror_mode": {
    "name": "ipython",
    "version": 3
   },
   "file_extension": ".py",
   "mimetype": "text/x-python",
   "name": "python",
   "nbconvert_exporter": "python",
   "pygments_lexer": "ipython3",
   "version": "3.6.7"
  }
 },
 "nbformat": 4,
 "nbformat_minor": 2
}
