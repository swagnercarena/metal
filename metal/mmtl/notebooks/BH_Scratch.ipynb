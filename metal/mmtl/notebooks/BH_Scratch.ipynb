{
 "cells": [
  {
   "cell_type": "code",
   "execution_count": 1,
   "metadata": {},
   "outputs": [
    {
     "name": "stdout",
     "output_type": "stream",
     "text": [
      "The autoreload extension is already loaded. To reload it, use:\n",
      "  %reload_ext autoreload\n"
     ]
    }
   ],
   "source": [
    "%load_ext autoreload\n",
    "%autoreload 2\n",
    "%matplotlib inline"
   ]
  },
  {
   "cell_type": "code",
   "execution_count": 2,
   "metadata": {},
   "outputs": [],
   "source": [
    "import torch\n",
    "from torch.utils.data import DataLoader, TensorDataset\n",
    "\n",
    "def make_dataloader(n, batch_size):\n",
    "    X = np.random.random((n, 2)) * 2 - 1\n",
    "    Y = (X[:, 0] > X[:, 1] + 0.25).astype(int) + 1\n",
    "\n",
    "    X = torch.tensor(X, dtype=torch.float)\n",
    "    Y = torch.tensor(Y, dtype=torch.long)\n",
    "\n",
    "    div1 = int(n*0.8)\n",
    "    div2 = int(n*0.9)\n",
    "    Xs = [X[:div1], X[div1:div2], X[div2:]]\n",
    "    Ys = [Y[:div1], Y[div1:div2], Y[div2:]]\n",
    "\n",
    "    dataset = TensorDataset(Xs[0], Ys[0])\n",
    "    data_loader = DataLoader(dataset, batch_size=batch_size)\n",
    "    return data_loader"
   ]
  },
  {
   "cell_type": "code",
   "execution_count": 3,
   "metadata": {},
   "outputs": [
    {
     "data": {
      "text/plain": [
       "<torch._C.Generator at 0x1132fdf30>"
      ]
     },
     "execution_count": 3,
     "metadata": {},
     "output_type": "execute_result"
    }
   ],
   "source": [
    "import torch.nn as nn\n",
    "from metal.mmtl.glue.glue_metrics import acc_f1, pearson_spearman\n",
    "from metal.mmtl.task import ClassificationTask\n",
    "from metal.mmtl.scorer import Scorer\n",
    "\n",
    "BATCHSIZE = 8\n",
    "torch.manual_seed(1234)\n",
    "\n",
    "foo_input = nn.Linear(2, 10)\n",
    "bar_input = foo_input #nn.Linear(100, 7)\n",
    "\n",
    "foo_head = nn.Linear(10, 2)\n",
    "bar_head = nn.Linear(10, 2)\n",
    "\n",
    "foo_data = make_dataloader(6000, batch_size=BATCHSIZE)\n",
    "bar_data = make_dataloader(2000, batch_size=BATCHSIZE)\n",
    "\n",
    "\n",
    "# custom_metrics = {\n",
    "#     pearson_spearman: [\"pearson_corr\", \"spearman_corr\", \"pearson_spearman\"]\n",
    "# }\n",
    "# scorer = Scorer([\"accuracy\"], custom_metric_funcs=custom_metrics)\n",
    "\n",
    "foo = ClassificationTask(\"foo_task\", {\"train\": foo_data, \"valid\": foo_data, \"test\": foo_data}, foo_input, foo_head)\n",
    "bar = ClassificationTask(\"bar_task\", {\"train\": bar_data, \"valid\": bar_data, \"test\": bar_data}, bar_input, bar_head)\n",
    "# baz = Task(\"baz_task\", \"baz_head\", [make_dataloader(100), None, None])\n",
    "tasks = [foo, bar]"
   ]
  },
  {
   "cell_type": "code",
   "execution_count": 18,
   "metadata": {
    "scrolled": false
   },
   "outputs": [
    {
     "name": "stdout",
     "output_type": "stream",
     "text": [
      "Beginning train loop.\n",
      "Expecting a total of approximately 5600 examples and 700 batches per epoch from 2 tasks.\n",
      "[1.00 epo]: TRAIN:[foo_task/loss=8.14e-03, bar_task/loss=9.53e-03, model/loss=8.54e-03, model/lr=2.86e-05] VALID:[foo_task/accuracy=9.94e-01, bar_task/accuracy=9.99e-01]\n",
      "Saving model at iteration 1.0014285714285713 with best (max) score 0.994\n",
      "Restoring best model from iteration 1.00 with score 0.994\n",
      "Cleaning checkpoints\n",
      "Writing log to /Users/bradenjh/repos/metal/logs/2019_02_21/18_42_30/18_42_30.json\n",
      "Finished training\n",
      "{'bar_task/test/accuracy': 0.999, 'foo_task/test/accuracy': 0.994}\n",
      "CPU times: user 608 ms, sys: 23.4 ms, total: 632 ms\n",
      "Wall time: 656 ms\n"
     ]
    }
   ],
   "source": [
    "%%time\n",
    "from metal.end_model import EndModel\n",
    "from metal.mmtl.metal_model import MetalModel\n",
    "from metal.mmtl.trainer import MultitaskTrainer\n",
    "\n",
    "model = MetalModel(tasks, device=-1, seed=123, verbose=False)\n",
    "trainer = MultitaskTrainer(seed=123)\n",
    "trainer.train_model(\n",
    "    model, \n",
    "    tasks, \n",
    "    n_epochs=2, \n",
    "    lr=0.01, \n",
    "    progress_bar=False,\n",
    "    log_unit=\"epochs\",\n",
    "    log_every=0.5,\n",
    "    score_every=0.5,\n",
    "    lr_scheduler=\"linear\",\n",
    "    warmup_steps = 0.5,\n",
    "    warmup_unit = \"epochs\",\n",
    "    min_lr = 0.0,\n",
    "#     task_scheduler=\"proportional\",\n",
    "#     patience=10,\n",
    "#     task_metrics=None,  # [\"model_valid_loss\"]\n",
    "#     max_valid_examples=1000,\n",
    "    trainer_metrics=[], # \"glue_partial\",\n",
    "    test_split=\"test\",\n",
    "    grad_clip=0.01,\n",
    "    writer=\"tensorboard\",\n",
    "    checkpoint=True,\n",
    "    checkpoint_best=True,\n",
    "    checkpoint_metric=\"foo_task/valid/accuracy\",\n",
    "    checkpoint_metric_mode=\"max\",\n",
    ")"
   ]
  },
  {
   "cell_type": "code",
   "execution_count": 20,
   "metadata": {},
   "outputs": [
    {
     "data": {
      "text/plain": [
       "4"
      ]
     },
     "execution_count": 20,
     "metadata": {},
     "output_type": "execute_result"
    }
   ],
   "source": [
    "a = 5\n",
    "type(a)('4')"
   ]
  },
  {
   "cell_type": "code",
   "execution_count": 5,
   "metadata": {
    "scrolled": true
   },
   "outputs": [],
   "source": [
    "# for batch in foo.data_loaders[\"train\"]:\n",
    "#     X, Y = batch\n",
    "#     print(model(X, ['foo_task']))\n",
    "#     print(model.calculate_loss(X, Y, ['foo_task']))    \n",
    "#     print(model.calculate_output(X, ['foo_task']))    \n",
    "#     break"
   ]
  },
  {
   "cell_type": "code",
   "execution_count": 6,
   "metadata": {
    "scrolled": false
   },
   "outputs": [
    {
     "data": {
      "text/plain": [
       "array([[9.94975328e-01, 5.02471300e-03],\n",
       "       [3.47893092e-07, 9.99999642e-01],\n",
       "       [1.00000000e+00, 4.07478211e-08],\n",
       "       ...,\n",
       "       [1.03129009e-24, 1.00000000e+00],\n",
       "       [5.31781472e-15, 1.00000000e+00],\n",
       "       [2.15263814e-28, 1.00000000e+00]])"
      ]
     },
     "execution_count": 6,
     "metadata": {},
     "output_type": "execute_result"
    }
   ],
   "source": [
    "model.predict_probs(foo, \"train\")"
   ]
  },
  {
   "cell_type": "code",
   "execution_count": 7,
   "metadata": {},
   "outputs": [
    {
     "data": {
      "text/plain": [
       "array([1, 2, 1, ..., 2, 2, 2])"
      ]
     },
     "execution_count": 7,
     "metadata": {},
     "output_type": "execute_result"
    }
   ],
   "source": [
    "model.predict(foo, \"train\")"
   ]
  },
  {
   "cell_type": "code",
   "execution_count": 8,
   "metadata": {},
   "outputs": [
    {
     "data": {
      "text/plain": [
       "0.99825"
      ]
     },
     "execution_count": 8,
     "metadata": {},
     "output_type": "execute_result"
    }
   ],
   "source": [
    "model.score(foo, \"valid\", \"accuracy\")"
   ]
  },
  {
   "cell_type": "code",
   "execution_count": 9,
   "metadata": {},
   "outputs": [],
   "source": [
    "# tasks = ['A', 'B', 'C']\n",
    "# batch_counts = [5, 3, 10]\n",
    "# threshold = max(batch_counts)\n",
    "# for i in reversed(range(threshold)):\n",
    "#     for task, count in zip(tasks, batch_counts):\n",
    "#         if count > i:\n",
    "#             print(task)"
   ]
  },
  {
   "cell_type": "code",
   "execution_count": 10,
   "metadata": {
    "scrolled": false
   },
   "outputs": [],
   "source": [
    "# import os\n",
    "# filepath = os.path.join(os.environ[\"METALHOME\"], \"my_model.pkl\")\n",
    "# model.save(filepath)"
   ]
  },
  {
   "cell_type": "code",
   "execution_count": null,
   "metadata": {},
   "outputs": [],
   "source": []
  }
 ],
 "metadata": {
  "kernelspec": {
   "display_name": "Python [conda env:metal]",
   "language": "python",
   "name": "conda-env-metal-py"
  },
  "language_info": {
   "codemirror_mode": {
    "name": "ipython",
    "version": 3
   },
   "file_extension": ".py",
   "mimetype": "text/x-python",
   "name": "python",
   "nbconvert_exporter": "python",
   "pygments_lexer": "ipython3",
   "version": "3.6.8"
  }
 },
 "nbformat": 4,
 "nbformat_minor": 2
}
