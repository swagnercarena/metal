{
 "cells": [
  {
   "cell_type": "code",
   "execution_count": 1,
   "metadata": {},
   "outputs": [],
   "source": [
    "import numpy as np"
   ]
  },
  {
   "cell_type": "code",
   "execution_count": 2,
   "metadata": {},
   "outputs": [
    {
     "name": "stdout",
     "output_type": "stream",
     "text": [
      "Using random seed: 368220\n",
      "Loading RTE Dataset\n"
     ]
    },
    {
     "data": {
      "application/vnd.jupyter.widget-view+json": {
       "model_id": "156f58a0459343b187900c37d9ca456c",
       "version_major": 2,
       "version_minor": 0
      },
      "text/plain": [
       "HBox(children=(IntProgress(value=0, max=2490), HTML(value='')))"
      ]
     },
     "metadata": {},
     "output_type": "display_data"
    },
    {
     "name": "stdout",
     "output_type": "stream",
     "text": [
      "\n"
     ]
    },
    {
     "data": {
      "application/vnd.jupyter.widget-view+json": {
       "model_id": "dd24f3eee76d4fc89ee3aa35ed88b67c",
       "version_major": 2,
       "version_minor": 0
      },
      "text/plain": [
       "HBox(children=(IntProgress(value=0, max=277), HTML(value='')))"
      ]
     },
     "metadata": {},
     "output_type": "display_data"
    },
    {
     "name": "stdout",
     "output_type": "stream",
     "text": [
      "\n"
     ]
    },
    {
     "data": {
      "application/vnd.jupyter.widget-view+json": {
       "model_id": "00ca26066b4741dfa30e73f0d93baee5",
       "version_major": 2,
       "version_minor": 0
      },
      "text/plain": [
       "HBox(children=(IntProgress(value=0, max=3000), HTML(value='')))"
      ]
     },
     "metadata": {},
     "output_type": "display_data"
    },
    {
     "name": "stdout",
     "output_type": "stream",
     "text": [
      "\n",
      "CPU times: user 28 s, sys: 4.51 s, total: 32.5 s\n",
      "Wall time: 33.1 s\n"
     ]
    }
   ],
   "source": [
    "%%time\n",
    "from metal.mmtl.glue.glue_tasks import create_glue_tasks_payloads\n",
    "task_kwargs = {\n",
    "    \"dl_kwargs\": {\"batch_size\": 16},\n",
    "    \"bert_model\": 'bert-large-cased',\n",
    "    \"max_len\": 100   \n",
    "}\n",
    "\n",
    "task_names = [\"RTE\"]\n",
    "from metal.mmtl.metal_model import MetalModel\n",
    "tasks, payloads = create_glue_tasks_payloads(task_names, **task_kwargs)\n",
    "model = MetalModel(tasks, seed=1, verbose=False)"
   ]
  },
  {
   "cell_type": "code",
   "execution_count": 3,
   "metadata": {},
   "outputs": [],
   "source": [
    "checkpoints = {\n",
    "#     \"RTE\": \"/dfs/scratch0/vschen/metal-mmtl/logs/2019_03_18/10_08_00/checkpoints/RTE/best_model.pth\",\n",
    "#     \"RTE:dash_semicolon\": \"/dfs/scratch0/vschen/metal-mmtl/logs/2019_03_18/10_08_00/checkpoints/RTE:dash_semicolon/best_model.pth\"\n",
    "    \"RTE\": \"/dfs/scratch0/vschen/metal-mmtl/logs/2019_03_17/23_11_40//checkpoints/RTE/best_model.pth\",\n",
    "    \"RTE:dash_semicolon\": \"/dfs/scratch0/vschen/metal-mmtl/logs/2019_03_17/23_11_40//checkpoints/RTE:dash_semicolon/best_model.pth\",\n",
    "}"
   ]
  },
  {
   "cell_type": "code",
   "execution_count": 4,
   "metadata": {},
   "outputs": [],
   "source": [
    "from collections import defaultdict"
   ]
  },
  {
   "cell_type": "code",
   "execution_count": 5,
   "metadata": {},
   "outputs": [
    {
     "name": "stdout",
     "output_type": "stream",
     "text": [
      "Using random seed: 128037\n",
      "Loading RTE Dataset\n"
     ]
    },
    {
     "data": {
      "application/vnd.jupyter.widget-view+json": {
       "model_id": "df7771c565604f229021ca6bd8e0bf16",
       "version_major": 2,
       "version_minor": 0
      },
      "text/plain": [
       "HBox(children=(IntProgress(value=0, max=2490), HTML(value='')))"
      ]
     },
     "metadata": {},
     "output_type": "display_data"
    },
    {
     "name": "stdout",
     "output_type": "stream",
     "text": [
      "\n"
     ]
    },
    {
     "data": {
      "application/vnd.jupyter.widget-view+json": {
       "model_id": "bec64939aa5f4ee79f19aec6e98ec7c3",
       "version_major": 2,
       "version_minor": 0
      },
      "text/plain": [
       "HBox(children=(IntProgress(value=0, max=277), HTML(value='')))"
      ]
     },
     "metadata": {},
     "output_type": "display_data"
    },
    {
     "name": "stdout",
     "output_type": "stream",
     "text": [
      "\n"
     ]
    },
    {
     "data": {
      "application/vnd.jupyter.widget-view+json": {
       "model_id": "0b9b3d1d37ac44c3988c4d808aa6720a",
       "version_major": 2,
       "version_minor": 0
      },
      "text/plain": [
       "HBox(children=(IntProgress(value=0, max=3000), HTML(value='')))"
      ]
     },
     "metadata": {},
     "output_type": "display_data"
    },
    {
     "name": "stdout",
     "output_type": "stream",
     "text": [
      "\n",
      "Your destination state dict has different keys for the update key.\n",
      "{'RTE/RTE_valid/accuracy': 0.8411552346570397}\n",
      "Extracting probs for RTE\n",
      "Using random seed: 318533\n",
      "Loading RTE Dataset\n"
     ]
    },
    {
     "data": {
      "application/vnd.jupyter.widget-view+json": {
       "model_id": "4fbc0b666aa94963b6c3cdbe0d158b92",
       "version_major": 2,
       "version_minor": 0
      },
      "text/plain": [
       "HBox(children=(IntProgress(value=0, max=2490), HTML(value='')))"
      ]
     },
     "metadata": {},
     "output_type": "display_data"
    },
    {
     "name": "stdout",
     "output_type": "stream",
     "text": [
      "\n"
     ]
    },
    {
     "data": {
      "application/vnd.jupyter.widget-view+json": {
       "model_id": "4000d9273a8640e29abb45770712d94e",
       "version_major": 2,
       "version_minor": 0
      },
      "text/plain": [
       "HBox(children=(IntProgress(value=0, max=277), HTML(value='')))"
      ]
     },
     "metadata": {},
     "output_type": "display_data"
    },
    {
     "name": "stdout",
     "output_type": "stream",
     "text": [
      "\n"
     ]
    },
    {
     "data": {
      "application/vnd.jupyter.widget-view+json": {
       "model_id": "c04c4cd7157d42ff9c2cd0c8bd2e2792",
       "version_major": 2,
       "version_minor": 0
      },
      "text/plain": [
       "HBox(children=(IntProgress(value=0, max=3000), HTML(value='')))"
      ]
     },
     "metadata": {},
     "output_type": "display_data"
    },
    {
     "name": "stdout",
     "output_type": "stream",
     "text": [
      "\n",
      "Added label_set with 2490 labels for task RTE:dash_semicolon to payload RTE_train.\n",
      "Added label_set with 277 labels for task RTE:dash_semicolon to payload RTE_valid.\n",
      "Added label_set with 3000 labels for task RTE:dash_semicolon to payload RTE_test.\n",
      "Loading RTE Dataset\n"
     ]
    },
    {
     "data": {
      "application/vnd.jupyter.widget-view+json": {
       "model_id": "ad09f75a46cf473a8d1fe4801d17392d",
       "version_major": 2,
       "version_minor": 0
      },
      "text/plain": [
       "HBox(children=(IntProgress(value=0, max=2490), HTML(value='')))"
      ]
     },
     "metadata": {},
     "output_type": "display_data"
    },
    {
     "name": "stdout",
     "output_type": "stream",
     "text": [
      "\n"
     ]
    },
    {
     "data": {
      "application/vnd.jupyter.widget-view+json": {
       "model_id": "62c761d8e0b84939b0f61346bec524e8",
       "version_major": 2,
       "version_minor": 0
      },
      "text/plain": [
       "HBox(children=(IntProgress(value=0, max=277), HTML(value='')))"
      ]
     },
     "metadata": {},
     "output_type": "display_data"
    },
    {
     "name": "stdout",
     "output_type": "stream",
     "text": [
      "\n"
     ]
    },
    {
     "data": {
      "application/vnd.jupyter.widget-view+json": {
       "model_id": "447ee1df108a4b20882cfe7ae435c212",
       "version_major": 2,
       "version_minor": 0
      },
      "text/plain": [
       "HBox(children=(IntProgress(value=0, max=3000), HTML(value='')))"
      ]
     },
     "metadata": {},
     "output_type": "display_data"
    },
    {
     "name": "stdout",
     "output_type": "stream",
     "text": [
      "\n",
      "Added label_set with 2490 labels for task RTE:dash_semicolon to payload RTE_train.\n",
      "Added label_set with 277 labels for task RTE:dash_semicolon to payload RTE_valid.\n",
      "Added label_set with 3000 labels for task RTE:dash_semicolon to payload RTE_test.\n",
      "Your destination state dict has different keys for the update key.\n",
      "{'RTE/RTE_valid/accuracy': 0.8411552346570397, 'RTE:dash_semicolon/RTE_valid/accuracy': 0.7962962962962963}\n",
      "Extracting probs for RTE:dash_semicolon\n"
     ]
    }
   ],
   "source": [
    "# Create tasks and payloads\n",
    "slice_dict = defaultdict(list)\n",
    "task_names = []\n",
    "Ys_probs_all, Ys_all = {}, {}\n",
    "for name, model_path in checkpoints.items():\n",
    "    if \":\" in name:\n",
    "        task_name, slice_name = tuple(name.split(\":\"))\n",
    "        slice_dict[task_name].append(slice_name)\n",
    "        task_kwargs.update({\"slice_dict\": slice_dict})\n",
    "    else:\n",
    "        task_name = name\n",
    "\n",
    "    task_names.append(task_name)\n",
    "    tasks, payloads = create_glue_tasks_payloads(task_names, **task_kwargs)\n",
    "\n",
    "    model.load_weights(model_path)\n",
    "    \n",
    "    # TODO: change for train/dev/test\n",
    "    payload = payloads[1]\n",
    "    print(model.score(payloads[1]))\n",
    "    \n",
    "    # eval on single model via predict_with_gold\n",
    "    Ys, Ys_probs, Ys_preds = model.predict_with_gold(\n",
    "        payload, [name], return_preds=True\n",
    "    )\n",
    "    \n",
    "    # use \"name\" = {task_name}:{slice_name} to grab slice-specific predictions\n",
    "    Ys_probs_all[name] = np.array(Ys_probs[name])\n",
    "    Ys_all[name] = np.array(Ys[name])\n",
    "    print(f\"Extracting probs for {name}\")"
   ]
  },
  {
   "cell_type": "code",
   "execution_count": 6,
   "metadata": {},
   "outputs": [],
   "source": [
    "def ensemble_avg(task_name, Ys_probs_all, Ys_all):\n",
    "    \n",
    "    # only average if the mask is nonzero\n",
    "    n = len(Ys_probs_all[task_name])\n",
    "    scores = np.zeros(Ys_probs_all[task_name].shape)\n",
    "    counts = np.zeros((n,1))\n",
    "    for k in Ys_probs_all.keys():\n",
    "        Y_probs = Ys_probs_all[k]\n",
    "        Y = Ys_all[k].squeeze()\n",
    "        counts[Y != 0] += 1\n",
    "        scores += Y_probs\n",
    "        print(f\"Num abstains for {k}: {np.sum(Y == 0)}\")\n",
    "\n",
    "    averaged_preds = scores / counts\n",
    "    return averaged_preds\n",
    "\n",
    "def ensembled_masked(task_name, Ys_probs_all, Ys_all):\n",
    "    \"\"\"Alwasy defer to the expert slice head.\n",
    "    NOTE: assumes heads don't overlap.\n",
    "    \"\"\"\n",
    "    \n",
    "    # only average if the mask is nonzero\n",
    "    n = len(Ys_probs_all[task_name])\n",
    "    scores = Ys_probs_all[task_name]\n",
    "    \n",
    "    for k in Ys_probs_all.keys():\n",
    "        Y_probs = Ys_probs_all[k]\n",
    "        Y = Ys_all[k].squeeze()\n",
    "        \n",
    "        if \":\" in k:\n",
    "            scores[Y != 0, :] = Y_probs[Y != 0, :]\n",
    "\n",
    "    return scores"
   ]
  },
  {
   "cell_type": "code",
   "execution_count": 15,
   "metadata": {},
   "outputs": [],
   "source": [
    "# probs = ensemble_avg('RTE', Ys_probs_all, Ys_all)\n",
    "probs = ensembled_masked('RTE', Ys_probs_all, Ys_all)\n"
   ]
  },
  {
   "cell_type": "code",
   "execution_count": 16,
   "metadata": {},
   "outputs": [],
   "source": [
    "from metal.mmtl.metal_model import probs_to_preds\n",
    "preds = probs_to_preds(probs)\n",
    "labels = list(Ys_all.values())[0]"
   ]
  },
  {
   "cell_type": "code",
   "execution_count": 17,
   "metadata": {},
   "outputs": [
    {
     "name": "stdout",
     "output_type": "stream",
     "text": [
      "{'RTE': {'accuracy': 0.6895306859205776}}\n"
     ]
    }
   ],
   "source": [
    "task_metrics_dict = {}\n",
    "for task_name in task_names:\n",
    "    target_metrics = {task_name: None}\n",
    "    metrics_dict = {}\n",
    "    scorer = model.task_map[task_name].scorer\n",
    "    task_metrics_dict[task_name] = scorer.score(\n",
    "        labels,\n",
    "        probs,\n",
    "        preds,\n",
    "        target_metrics=target_metrics[task_name],\n",
    "    )\n",
    "print(task_metrics_dict)"
   ]
  },
  {
   "cell_type": "code",
   "execution_count": 11,
   "metadata": {},
   "outputs": [
    {
     "data": {
      "text/plain": [
       "277"
      ]
     },
     "execution_count": 11,
     "metadata": {},
     "output_type": "execute_result"
    }
   ],
   "source": [
    "len(labels)"
   ]
  },
  {
   "cell_type": "code",
   "execution_count": null,
   "metadata": {},
   "outputs": [],
   "source": []
  }
 ],
 "metadata": {
  "kernelspec": {
   "display_name": "Python 3",
   "language": "python",
   "name": "python3"
  },
  "language_info": {
   "codemirror_mode": {
    "name": "ipython",
    "version": 3
   },
   "file_extension": ".py",
   "mimetype": "text/x-python",
   "name": "python",
   "nbconvert_exporter": "python",
   "pygments_lexer": "ipython3",
   "version": "3.6.7"
  }
 },
 "nbformat": 4,
 "nbformat_minor": 2
}
