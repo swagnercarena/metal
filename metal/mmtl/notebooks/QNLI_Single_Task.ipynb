{
 "cells": [
  {
   "cell_type": "code",
   "execution_count": 1,
   "metadata": {},
   "outputs": [],
   "source": [
    "%load_ext autoreload\n",
    "%autoreload 2\n",
    "%matplotlib inline"
   ]
  },
  {
   "cell_type": "code",
   "execution_count": 2,
   "metadata": {},
   "outputs": [
    {
     "name": "stdout",
     "output_type": "stream",
     "text": [
      "Better speed can be achieved with apex installed from https://www.github.com/nvidia/apex.\n"
     ]
    }
   ],
   "source": [
    "import os\n",
    "\n",
    "import numpy as np\n",
    "import torch.nn as nn\n",
    "\n",
    "from pytorch_pretrained_bert import BertTokenizer\n",
    "from metal.mmtl.metal_model import MetalModel\n",
    "from metal.mmtl.glue.glue_tasks import create_tasks\n",
    "from metal.mmtl.trainer import MultitaskTrainer"
   ]
  },
  {
   "cell_type": "markdown",
   "metadata": {},
   "source": [
    "### Config"
   ]
  },
  {
   "cell_type": "code",
   "execution_count": 3,
   "metadata": {},
   "outputs": [],
   "source": [
    "bert_model = 'bert-base-uncased'\n",
    "bert_model_output_shape = 768\n",
    "max_len = 200\n",
    "batch_size = 16\n",
    "split_prop = 0.8\n",
    "max_datapoints = 10"
   ]
  },
  {
   "cell_type": "markdown",
   "metadata": {},
   "source": [
    "Create task object"
   ]
  },
  {
   "cell_type": "code",
   "execution_count": 4,
   "metadata": {},
   "outputs": [
    {
     "name": "stdout",
     "output_type": "stream",
     "text": [
      "Loading QNLIR Dataset\n"
     ]
    },
    {
     "data": {
      "application/vnd.jupyter.widget-view+json": {
       "model_id": "5da1aa93058c49a79cbc6c9bb153d4ea",
       "version_major": 2,
       "version_minor": 0
      },
      "text/html": [
       "<p>Failed to display Jupyter Widget of type <code>HBox</code>.</p>\n",
       "<p>\n",
       "  If you're reading this message in the Jupyter Notebook or JupyterLab Notebook, it may mean\n",
       "  that the widgets JavaScript is still loading. If this message persists, it\n",
       "  likely means that the widgets JavaScript library is either not installed or\n",
       "  not enabled. See the <a href=\"https://ipywidgets.readthedocs.io/en/stable/user_install.html\">Jupyter\n",
       "  Widgets Documentation</a> for setup instructions.\n",
       "</p>\n",
       "<p>\n",
       "  If you're reading this message in another frontend (for example, a static\n",
       "  rendering on GitHub or <a href=\"https://nbviewer.jupyter.org/\">NBViewer</a>),\n",
       "  it may mean that your frontend doesn't currently support widgets.\n",
       "</p>\n"
      ],
      "text/plain": [
       "HBox(children=(IntProgress(value=0, max=20), HTML(value='')))"
      ]
     },
     "metadata": {},
     "output_type": "display_data"
    },
    {
     "name": "stdout",
     "output_type": "stream",
     "text": [
      "\n"
     ]
    },
    {
     "data": {
      "application/vnd.jupyter.widget-view+json": {
       "model_id": "ed19da8a775f402b9354525462db2d65",
       "version_major": 2,
       "version_minor": 0
      },
      "text/html": [
       "<p>Failed to display Jupyter Widget of type <code>HBox</code>.</p>\n",
       "<p>\n",
       "  If you're reading this message in the Jupyter Notebook or JupyterLab Notebook, it may mean\n",
       "  that the widgets JavaScript is still loading. If this message persists, it\n",
       "  likely means that the widgets JavaScript library is either not installed or\n",
       "  not enabled. See the <a href=\"https://ipywidgets.readthedocs.io/en/stable/user_install.html\">Jupyter\n",
       "  Widgets Documentation</a> for setup instructions.\n",
       "</p>\n",
       "<p>\n",
       "  If you're reading this message in another frontend (for example, a static\n",
       "  rendering on GitHub or <a href=\"https://nbviewer.jupyter.org/\">NBViewer</a>),\n",
       "  it may mean that your frontend doesn't currently support widgets.\n",
       "</p>\n"
      ],
      "text/plain": [
       "HBox(children=(IntProgress(value=0, max=20), HTML(value='')))"
      ]
     },
     "metadata": {},
     "output_type": "display_data"
    },
    {
     "name": "stdout",
     "output_type": "stream",
     "text": [
      "\n"
     ]
    },
    {
     "data": {
      "application/vnd.jupyter.widget-view+json": {
       "model_id": "ea0f9bc2bbfe4acf9918f0bee0dd463f",
       "version_major": 2,
       "version_minor": 0
      },
      "text/html": [
       "<p>Failed to display Jupyter Widget of type <code>HBox</code>.</p>\n",
       "<p>\n",
       "  If you're reading this message in the Jupyter Notebook or JupyterLab Notebook, it may mean\n",
       "  that the widgets JavaScript is still loading. If this message persists, it\n",
       "  likely means that the widgets JavaScript library is either not installed or\n",
       "  not enabled. See the <a href=\"https://ipywidgets.readthedocs.io/en/stable/user_install.html\">Jupyter\n",
       "  Widgets Documentation</a> for setup instructions.\n",
       "</p>\n",
       "<p>\n",
       "  If you're reading this message in another frontend (for example, a static\n",
       "  rendering on GitHub or <a href=\"https://nbviewer.jupyter.org/\">NBViewer</a>),\n",
       "  it may mean that your frontend doesn't currently support widgets.\n",
       "</p>\n"
      ],
      "text/plain": [
       "HBox(children=(IntProgress(value=0, max=20), HTML(value='')))"
      ]
     },
     "metadata": {},
     "output_type": "display_data"
    },
    {
     "name": "stdout",
     "output_type": "stream",
     "text": [
      "\n"
     ]
    }
   ],
   "source": [
    "tasks = create_tasks(\n",
    "    ['QNLIR'],\n",
    "    bert_model,\n",
    "    split_prop=None,\n",
    "    max_len=max_len,\n",
    "    dl_kwargs={'batch_size': batch_size},\n",
    "    bert_kwargs={},\n",
    "    bert_output_dim=bert_model_output_shape,\n",
    "    max_datapoints=max_datapoints,\n",
    ")"
   ]
  },
  {
   "cell_type": "markdown",
   "metadata": {},
   "source": [
    "Print some examples from dataloader. The dataloader returns pairs ((Q, S1), (Q, S2)) where one pair is an entailement for question Q and the other is not. "
   ]
  },
  {
   "cell_type": "code",
   "execution_count": 5,
   "metadata": {},
   "outputs": [
    {
     "name": "stdout",
     "output_type": "stream",
     "text": [
      "[CLS] what organization is devoted to jihad against israel ? [SEP] for some decades prior to the first palestine int ##if ##ada in 1987 , the muslim brotherhood in palestine took a \" qui ##es ##cent \" stance towards israel , focusing on preaching , education and social services , and benefit ##ing from israel ' s \" ind ##ul ##gence \" to build up a network of mosques and charitable organizations . [SEP]    \n",
      "[CLS] in what century was the ya ##rrow - sc ##hli ##ck - tweed ##y balancing system used ? [SEP] in the late 19th century , the ya ##rrow - sc ##hli ##ck - tweed ##y balancing ' system ' was used on some marine triple expansion engines . [SEP]                            \n",
      "[CLS] the largest brand of what store in the uk is located in kingston park ? [SEP] close to newcastle , the largest indoor shopping centre in europe , the metro ##cent ##re , is located in gates ##head . [SEP]                                     \n",
      "[CLS] what does the ip ##cc rely on for research ? [SEP] in principle , this means that any significant new evidence or events that change our understanding of climate science between this deadline and publication of an ip ##cc report cannot be included . [SEP]                                \n"
     ]
    }
   ],
   "source": [
    "tokenizer = BertTokenizer.from_pretrained(bert_model, do_lower_case=True)\n",
    "xs = []\n",
    "ys = []\n",
    "for x, y in tasks[0].data_loaders['test']:\n",
    "    break\n",
    "for tokens in x[0][:4]:\n",
    "    print(' '.join(tokenizer.convert_ids_to_tokens(tokens.numpy())).replace('[PAD]', ''))"
   ]
  },
  {
   "cell_type": "code",
   "execution_count": 6,
   "metadata": {},
   "outputs": [
    {
     "data": {
      "text/plain": [
       "tensor([1., 1., 1., 1., 1., 1., 1., 1., 1., 1., 1., 1., 1., 1., 1., 1.])"
      ]
     },
     "execution_count": 6,
     "metadata": {},
     "output_type": "execute_result"
    }
   ],
   "source": [
    "y"
   ]
  },
  {
   "cell_type": "markdown",
   "metadata": {},
   "source": [
    "Create and train MetalModel for QNLI ranking task."
   ]
  },
  {
   "cell_type": "code",
   "execution_count": 6,
   "metadata": {
    "scrolled": false
   },
   "outputs": [],
   "source": [
    "model = MetalModel(tasks, verbose=False)"
   ]
  },
  {
   "cell_type": "code",
   "execution_count": 7,
   "metadata": {},
   "outputs": [
    {
     "name": "stdout",
     "output_type": "stream",
     "text": [
      "Beginning train loop.\n",
      "Expecting a total of approximately 83680 examples and 5230 batches per epoch from 1 tasks.\n"
     ]
    },
    {
     "data": {
      "application/vnd.jupyter.widget-view+json": {
       "model_id": "352bc7e1e02a4940981cf4dcb970c8e2",
       "version_major": 2,
       "version_minor": 0
      },
      "text/html": [
       "<p>Failed to display Jupyter Widget of type <code>HBox</code>.</p>\n",
       "<p>\n",
       "  If you're reading this message in the Jupyter Notebook or JupyterLab Notebook, it may mean\n",
       "  that the widgets JavaScript is still loading. If this message persists, it\n",
       "  likely means that the widgets JavaScript library is either not installed or\n",
       "  not enabled. See the <a href=\"https://ipywidgets.readthedocs.io/en/stable/user_install.html\">Jupyter\n",
       "  Widgets Documentation</a> for setup instructions.\n",
       "</p>\n",
       "<p>\n",
       "  If you're reading this message in another frontend (for example, a static\n",
       "  rendering on GitHub or <a href=\"https://nbviewer.jupyter.org/\">NBViewer</a>),\n",
       "  it may mean that your frontend doesn't currently support widgets.\n",
       "</p>\n"
      ],
      "text/plain": [
       "HBox(children=(IntProgress(value=0, max=5230), HTML(value='')))"
      ]
     },
     "metadata": {},
     "output_type": "display_data"
    },
    {
     "name": "stdout",
     "output_type": "stream",
     "text": [
      "[1.0 epo]: TRAIN:[model/loss=4.78e-01, model/lr=3.82e-09] VALID:[QNLIR/accuracy=7.33e-01, QNLIR/f1=7.50e-01, QNLIR/acc_f1=7.42e-01]\n",
      "\n",
      "Finished Training\n",
      "{'QNLIR/test/acc_f1': 0.7238095238095238,\n",
      " 'QNLIR/test/accuracy': 0.7333333333333333,\n",
      " 'QNLIR/test/f1': 0.7142857142857143}\n"
     ]
    }
   ],
   "source": [
    "trainer = MultitaskTrainer()\n",
    "trainer.train_model(\n",
    "    model,\n",
    "    tasks,\n",
    "    lr=1e-5,\n",
    "    n_epochs=1,\n",
    "    progress_bar=True,\n",
    "    checkpoint_metric='QNLIR/valid/accuracy',\n",
    "    checkpoint_metric_mode=\"max\",\n",
    "    checkpoint_dir=f\"{os.environ['METALHOME']}/checkpoints/qnli_single\")"
   ]
  },
  {
   "cell_type": "code",
   "execution_count": 15,
   "metadata": {
    "scrolled": false
   },
   "outputs": [
    {
     "name": "stdout",
     "output_type": "stream",
     "text": [
      "{'QNLIR': tensor([[-1.4154],\n",
      "        [-1.3964],\n",
      "        [-1.4229],\n",
      "        [-1.3765],\n",
      "        [-1.4278],\n",
      "        [-1.4216],\n",
      "        [-1.4259],\n",
      "        [-1.4023],\n",
      "        [-1.4292],\n",
      "        [-1.4186],\n",
      "        [-1.4167],\n",
      "        [-1.3918],\n",
      "        [ 0.4138],\n",
      "        [-1.4115],\n",
      "        [-1.4272],\n",
      "        [-1.4230]], device='cuda:0', grad_fn=<MmBackward>)}\n",
      "{'QNLIR': tensor(0.7219, device='cuda:0', grad_fn=<NegBackward>)}\n",
      "{'QNLIR': tensor([[0.1954],\n",
      "        [0.1984],\n",
      "        [0.1942],\n",
      "        [0.2016],\n",
      "        [0.1934],\n",
      "        [0.1944],\n",
      "        [0.1937],\n",
      "        [0.1974],\n",
      "        [0.1932],\n",
      "        [0.1949],\n",
      "        [0.1952],\n",
      "        [0.1991],\n",
      "        [0.6020],\n",
      "        [0.1960],\n",
      "        [0.1935],\n",
      "        [0.1942]], device='cuda:0')}\n"
     ]
    }
   ],
   "source": [
    "for (X, Y) in tasks[0].data_loaders['valid']:\n",
    "    print(model(X, ['QNLIR']))\n",
    "    print(model.calculate_loss(X, Y.cuda(), ['QNLIR']))    \n",
    "    print(model.calculate_probs(X, ['QNLIR']))    \n",
    "    break"
   ]
  },
  {
   "cell_type": "code",
   "execution_count": 21,
   "metadata": {},
   "outputs": [
    {
     "data": {
      "text/plain": [
       "[0.4946000366099213]"
      ]
     },
     "execution_count": 21,
     "metadata": {},
     "output_type": "execute_result"
    }
   ],
   "source": [
    "model.score(tasks[0], split='test', metrics=['accuracy'], verbose=True)"
   ]
  },
  {
   "cell_type": "code",
   "execution_count": null,
   "metadata": {},
   "outputs": [],
   "source": [
    "model"
   ]
  }
 ],
 "metadata": {
  "kernelspec": {
   "display_name": "(metal)",
   "language": "python",
   "name": "metal"
  },
  "language_info": {
   "codemirror_mode": {
    "name": "ipython",
    "version": 3
   },
   "file_extension": ".py",
   "mimetype": "text/x-python",
   "name": "python",
   "nbconvert_exporter": "python",
   "pygments_lexer": "ipython3",
   "version": "3.6.7"
  }
 },
 "nbformat": 4,
 "nbformat_minor": 2
}
