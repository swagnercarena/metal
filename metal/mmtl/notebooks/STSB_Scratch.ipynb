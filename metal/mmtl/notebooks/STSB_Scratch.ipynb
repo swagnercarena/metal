{
 "cells": [
  {
   "cell_type": "code",
   "execution_count": 1,
   "metadata": {},
   "outputs": [],
   "source": [
    "%load_ext autoreload\n",
    "%autoreload 2"
   ]
  },
  {
   "cell_type": "code",
   "execution_count": 2,
   "metadata": {},
   "outputs": [
    {
     "name": "stdout",
     "output_type": "stream",
     "text": [
      "Better speed can be achieved with apex installed from https://www.github.com/nvidia/apex.\n"
     ]
    }
   ],
   "source": [
    "import torch\n",
    "from torch.utils.data import DataLoader, TensorDataset, Dataset\n",
    "import numpy as np\n",
    "import pandas as pd\n",
    "import metal\n",
    "import os\n",
    "from pytorch_pretrained_bert import BertTokenizer, BertModel, BertForMaskedLM"
   ]
  },
  {
   "cell_type": "code",
   "execution_count": 3,
   "metadata": {},
   "outputs": [],
   "source": [
    "from dataset import STSBDataset"
   ]
  },
  {
   "cell_type": "code",
   "execution_count": 4,
   "metadata": {},
   "outputs": [
    {
     "name": "stdout",
     "output_type": "stream",
     "text": [
      "Loading STSB Dataset\n"
     ]
    },
    {
     "name": "stderr",
     "output_type": "stream",
     "text": [
      "100%|██████████| 5749/5749 [00:02<00:00, 2435.37it/s]\n",
      "100%|██████████| 1500/1500 [00:00<00:00, 2046.15it/s]\n"
     ]
    }
   ],
   "source": [
    "from glue_tasks import create_task\n",
    "tasks = [create_task('STSB', dl_kwargs={'batch_size': 32})]"
   ]
  },
  {
   "cell_type": "code",
   "execution_count": 5,
   "metadata": {
    "scrolled": true
   },
   "outputs": [
    {
     "name": "stdout",
     "output_type": "stream",
     "text": [
      "Beginning train loop.\n",
      "Expecting a total of 5749 examples and 144 batches per epoch from 1 tasks.\n"
     ]
    },
    {
     "data": {
      "application/vnd.jupyter.widget-view+json": {
       "model_id": "4427c694c2a845cc81ff7b3c21276fe1",
       "version_major": 2,
       "version_minor": 0
      },
      "text/plain": [
       "HBox(children=(IntProgress(value=0, max=144), HTML(value='')))"
      ]
     },
     "metadata": {},
     "output_type": "display_data"
    },
    {
     "name": "stdout",
     "output_type": "stream",
     "text": [
      "[ (0.07 epo)]: TRAIN:[loss=0.094]\n",
      "[ (0.14 epo)]: TRAIN:[loss=0.075]\n",
      "[ (0.21 epo)]: TRAIN:[loss=0.084]\n",
      "[ (0.28 epo)]: TRAIN:[loss=0.082]\n",
      "[ (0.35 epo)]: TRAIN:[loss=0.083] VALID:[STSB/pearson_corr=0.42770853638648987, STSB/spearman_corr=0.491]\n",
      "Saving model at iteration 50 with best (max) score 0.428\n",
      "[ (0.42 epo)]: TRAIN:[loss=0.098]\n",
      "[ (0.49 epo)]: TRAIN:[loss=0.085]\n",
      "[ (0.56 epo)]: TRAIN:[loss=0.090]\n",
      "[ (0.62 epo)]: TRAIN:[loss=0.082]\n",
      "[ (0.69 epo)]: TRAIN:[loss=0.090] VALID:[STSB/pearson_corr=0.31211376190185547, STSB/spearman_corr=0.324]\n",
      "[ (0.76 epo)]: TRAIN:[loss=0.091]\n",
      "[ (0.83 epo)]: TRAIN:[loss=0.084]\n",
      "[ (0.90 epo)]: TRAIN:[loss=0.093]\n",
      "[ (0.97 epo)]: TRAIN:[loss=0.088]\n",
      "\n"
     ]
    },
    {
     "data": {
      "application/vnd.jupyter.widget-view+json": {
       "model_id": "18f3a801012446b496749635c1acf022",
       "version_major": 2,
       "version_minor": 0
      },
      "text/plain": [
       "HBox(children=(IntProgress(value=0, max=144), HTML(value='')))"
      ]
     },
     "metadata": {},
     "output_type": "display_data"
    },
    {
     "name": "stdout",
     "output_type": "stream",
     "text": [
      "[ (1.04 epo)]: TRAIN:[loss=0.095] VALID:[STSB/pearson_corr=0.37688538432121277, STSB/spearman_corr=0.384]\n",
      "[ (1.11 epo)]: TRAIN:[loss=0.087]\n",
      "[ (1.18 epo)]: TRAIN:[loss=0.083]\n",
      "[ (1.25 epo)]: TRAIN:[loss=0.089]\n",
      "[ (1.32 epo)]: TRAIN:[loss=0.084]\n",
      "[ (1.39 epo)]: TRAIN:[loss=0.088] VALID:[STSB/pearson_corr=0.34931379556655884, STSB/spearman_corr=0.326]\n",
      "[ (1.46 epo)]: TRAIN:[loss=0.084]\n",
      "[ (1.53 epo)]: TRAIN:[loss=0.094]\n",
      "[ (1.60 epo)]: TRAIN:[loss=0.085]\n",
      "[ (1.67 epo)]: TRAIN:[loss=0.080]\n",
      "[ (1.74 epo)]: TRAIN:[loss=0.082] VALID:[STSB/pearson_corr=0.6228325366973877, STSB/spearman_corr=0.575]\n",
      "Saving model at iteration 250 with best (max) score 0.623\n",
      "[ (1.81 epo)]: TRAIN:[loss=0.090]\n",
      "[ (1.88 epo)]: TRAIN:[loss=0.090]\n",
      "[ (1.94 epo)]: TRAIN:[loss=0.089]\n",
      "\n"
     ]
    },
    {
     "data": {
      "application/vnd.jupyter.widget-view+json": {
       "model_id": "9f06238cdc00435a9759194063188740",
       "version_major": 2,
       "version_minor": 0
      },
      "text/plain": [
       "HBox(children=(IntProgress(value=0, max=144), HTML(value='')))"
      ]
     },
     "metadata": {},
     "output_type": "display_data"
    },
    {
     "name": "stdout",
     "output_type": "stream",
     "text": [
      "[ (2.01 epo)]: TRAIN:[loss=0.087]\n",
      "[ (2.08 epo)]: TRAIN:[loss=0.096] VALID:[STSB/pearson_corr=0.5235499739646912, STSB/spearman_corr=0.491]\n",
      "[ (2.15 epo)]: TRAIN:[loss=0.084]\n",
      "[ (2.22 epo)]: TRAIN:[loss=0.082]\n",
      "[ (2.29 epo)]: TRAIN:[loss=0.084]\n",
      "[ (2.36 epo)]: TRAIN:[loss=0.090]\n",
      "[ (2.43 epo)]: TRAIN:[loss=0.082] VALID:[STSB/pearson_corr=0.5882838368415833, STSB/spearman_corr=0.539]\n",
      "[ (2.50 epo)]: TRAIN:[loss=0.084]\n",
      "[ (2.57 epo)]: TRAIN:[loss=0.088]\n",
      "[ (2.64 epo)]: TRAIN:[loss=0.090]\n",
      "[ (2.71 epo)]: TRAIN:[loss=0.088]\n",
      "[ (2.78 epo)]: TRAIN:[loss=0.083] VALID:[STSB/pearson_corr=0.6869632601737976, STSB/spearman_corr=0.623]\n",
      "Saving model at iteration 400 with best (max) score 0.687\n",
      "[ (2.85 epo)]: TRAIN:[loss=0.084]\n",
      "[ (2.92 epo)]: TRAIN:[loss=0.082]\n",
      "[ (2.99 epo)]: TRAIN:[loss=0.094]\n",
      "\n"
     ]
    },
    {
     "data": {
      "application/vnd.jupyter.widget-view+json": {
       "model_id": "c8f005e374364473b4b47bd2f8c8cd0f",
       "version_major": 2,
       "version_minor": 0
      },
      "text/plain": [
       "HBox(children=(IntProgress(value=0, max=144), HTML(value='')))"
      ]
     },
     "metadata": {},
     "output_type": "display_data"
    },
    {
     "name": "stdout",
     "output_type": "stream",
     "text": [
      "[ (3.06 epo)]: TRAIN:[loss=0.082]\n",
      "[ (3.12 epo)]: TRAIN:[loss=0.089] VALID:[STSB/pearson_corr=0.5568933486938477, STSB/spearman_corr=0.491]\n",
      "[ (3.19 epo)]: TRAIN:[loss=0.082]\n",
      "[ (3.26 epo)]: TRAIN:[loss=0.087]\n",
      "[ (3.33 epo)]: TRAIN:[loss=0.083]\n",
      "[ (3.40 epo)]: TRAIN:[loss=0.091]\n",
      "[ (3.47 epo)]: TRAIN:[loss=0.086] VALID:[STSB/pearson_corr=0.7198480367660522, STSB/spearman_corr=0.654]\n",
      "Saving model at iteration 500 with best (max) score 0.720\n",
      "[ (3.54 epo)]: TRAIN:[loss=0.091]\n",
      "[ (3.61 epo)]: TRAIN:[loss=0.087]\n",
      "[ (3.68 epo)]: TRAIN:[loss=0.077]\n",
      "[ (3.75 epo)]: TRAIN:[loss=0.083]\n",
      "[ (3.82 epo)]: TRAIN:[loss=0.086] VALID:[STSB/pearson_corr=0.4458792805671692, STSB/spearman_corr=0.410]\n",
      "[ (3.89 epo)]: TRAIN:[loss=0.088]\n",
      "[ (3.96 epo)]: TRAIN:[loss=0.093]\n",
      "\n"
     ]
    },
    {
     "data": {
      "application/vnd.jupyter.widget-view+json": {
       "model_id": "af6bd19a897146e5ada987b8b100b7b0",
       "version_major": 2,
       "version_minor": 0
      },
      "text/plain": [
       "HBox(children=(IntProgress(value=0, max=144), HTML(value='')))"
      ]
     },
     "metadata": {},
     "output_type": "display_data"
    },
    {
     "name": "stdout",
     "output_type": "stream",
     "text": [
      "[ (4.03 epo)]: TRAIN:[loss=0.090]\n",
      "[ (4.10 epo)]: TRAIN:[loss=0.093]\n",
      "[ (4.17 epo)]: TRAIN:[loss=0.090] VALID:[STSB/pearson_corr=0.5637001991271973, STSB/spearman_corr=0.522]\n",
      "[ (4.24 epo)]: TRAIN:[loss=0.083]\n",
      "[ (4.31 epo)]: TRAIN:[loss=0.083]\n",
      "[ (4.38 epo)]: TRAIN:[loss=0.091]\n",
      "[ (4.44 epo)]: TRAIN:[loss=0.081]\n",
      "[ (4.51 epo)]: TRAIN:[loss=0.086] VALID:[STSB/pearson_corr=0.6317116618156433, STSB/spearman_corr=0.602]\n",
      "[ (4.58 epo)]: TRAIN:[loss=0.086]\n",
      "[ (4.65 epo)]: TRAIN:[loss=0.079]\n",
      "[ (4.72 epo)]: TRAIN:[loss=0.095]\n",
      "[ (4.79 epo)]: TRAIN:[loss=0.081]\n",
      "[ (4.86 epo)]: TRAIN:[loss=0.094] VALID:[STSB/pearson_corr=0.7006477117538452, STSB/spearman_corr=0.655]\n",
      "[ (4.93 epo)]: TRAIN:[loss=0.085]\n",
      "[ (5.00 epo)]: TRAIN:[loss=0.081]\n",
      "\n"
     ]
    },
    {
     "data": {
      "application/vnd.jupyter.widget-view+json": {
       "model_id": "35c4225a08bb4bd388afe2bace9dd82d",
       "version_major": 2,
       "version_minor": 0
      },
      "text/plain": [
       "HBox(children=(IntProgress(value=0, max=144), HTML(value='')))"
      ]
     },
     "metadata": {},
     "output_type": "display_data"
    },
    {
     "name": "stdout",
     "output_type": "stream",
     "text": [
      "[ (5.07 epo)]: TRAIN:[loss=0.082]\n",
      "[ (5.14 epo)]: TRAIN:[loss=0.085]\n",
      "[ (5.21 epo)]: TRAIN:[loss=0.089] VALID:[STSB/pearson_corr=0.6489942669868469, STSB/spearman_corr=0.587]\n",
      "[ (5.28 epo)]: TRAIN:[loss=0.092]\n",
      "[ (5.35 epo)]: TRAIN:[loss=0.086]\n",
      "[ (5.42 epo)]: TRAIN:[loss=0.087]\n",
      "[ (5.49 epo)]: TRAIN:[loss=0.077]\n",
      "[ (5.56 epo)]: TRAIN:[loss=0.089] VALID:[STSB/pearson_corr=0.6826834082603455, STSB/spearman_corr=0.621]\n",
      "[ (5.62 epo)]: TRAIN:[loss=0.091]\n",
      "[ (5.69 epo)]: TRAIN:[loss=0.089]\n",
      "[ (5.76 epo)]: TRAIN:[loss=0.079]\n",
      "[ (5.83 epo)]: TRAIN:[loss=0.089]\n",
      "[ (5.90 epo)]: TRAIN:[loss=0.085] VALID:[STSB/pearson_corr=0.6565474271774292, STSB/spearman_corr=0.603]\n",
      "[ (5.97 epo)]: TRAIN:[loss=0.087]\n",
      "\n"
     ]
    },
    {
     "data": {
      "application/vnd.jupyter.widget-view+json": {
       "model_id": "cdb01ef5af5f46aba4b1f03f1f5e606e",
       "version_major": 2,
       "version_minor": 0
      },
      "text/plain": [
       "HBox(children=(IntProgress(value=0, max=144), HTML(value='')))"
      ]
     },
     "metadata": {},
     "output_type": "display_data"
    },
    {
     "name": "stdout",
     "output_type": "stream",
     "text": [
      "[ (6.04 epo)]: TRAIN:[loss=0.092]\n",
      "[ (6.11 epo)]: TRAIN:[loss=0.087]\n",
      "[ (6.18 epo)]: TRAIN:[loss=0.090]\n",
      "[ (6.25 epo)]: TRAIN:[loss=0.088] VALID:[STSB/pearson_corr=0.6745554208755493, STSB/spearman_corr=0.617]\n",
      "[ (6.32 epo)]: TRAIN:[loss=0.080]\n",
      "[ (6.39 epo)]: TRAIN:[loss=0.082]\n",
      "[ (6.46 epo)]: TRAIN:[loss=0.084]\n",
      "[ (6.53 epo)]: TRAIN:[loss=0.080]\n",
      "[ (6.60 epo)]: TRAIN:[loss=0.093] VALID:[STSB/pearson_corr=0.6516059041023254, STSB/spearman_corr=0.596]\n",
      "[ (6.67 epo)]: TRAIN:[loss=0.080]\n",
      "[ (6.74 epo)]: TRAIN:[loss=0.093]\n",
      "[ (6.81 epo)]: TRAIN:[loss=0.087]\n",
      "[ (6.88 epo)]: TRAIN:[loss=0.088]\n",
      "[ (6.94 epo)]: TRAIN:[loss=0.093] VALID:[STSB/pearson_corr=0.6921966671943665, STSB/spearman_corr=0.621]\n",
      "\n"
     ]
    },
    {
     "data": {
      "application/vnd.jupyter.widget-view+json": {
       "model_id": "b2e465ffdfd347d99ed94f8da64ecaf5",
       "version_major": 2,
       "version_minor": 0
      },
      "text/plain": [
       "HBox(children=(IntProgress(value=0, max=144), HTML(value='')))"
      ]
     },
     "metadata": {},
     "output_type": "display_data"
    },
    {
     "name": "stdout",
     "output_type": "stream",
     "text": [
      "[ (7.01 epo)]: TRAIN:[loss=0.080]\n",
      "[ (7.08 epo)]: TRAIN:[loss=0.090]\n",
      "[ (7.15 epo)]: TRAIN:[loss=0.083]\n",
      "[ (7.22 epo)]: TRAIN:[loss=0.083]\n",
      "[ (7.29 epo)]: TRAIN:[loss=0.081] VALID:[STSB/pearson_corr=0.5243173837661743, STSB/spearman_corr=0.505]\n",
      "[ (7.36 epo)]: TRAIN:[loss=0.086]\n",
      "[ (7.43 epo)]: TRAIN:[loss=0.086]\n",
      "[ (7.50 epo)]: TRAIN:[loss=0.088]\n",
      "[ (7.57 epo)]: TRAIN:[loss=0.090]\n",
      "[ (7.64 epo)]: TRAIN:[loss=0.094] VALID:[STSB/pearson_corr=0.5025812983512878, STSB/spearman_corr=0.480]\n",
      "[ (7.71 epo)]: TRAIN:[loss=0.086]\n",
      "[ (7.78 epo)]: TRAIN:[loss=0.086]\n",
      "[ (7.85 epo)]: TRAIN:[loss=0.091]\n",
      "[ (7.92 epo)]: TRAIN:[loss=0.077]\n",
      "[ (7.99 epo)]: TRAIN:[loss=0.081] VALID:[STSB/pearson_corr=0.7493680715560913, STSB/spearman_corr=0.673]\n",
      "Saving model at iteration 1150 with best (max) score 0.749\n",
      "\n"
     ]
    },
    {
     "data": {
      "application/vnd.jupyter.widget-view+json": {
       "model_id": "e502cdeb7fe64becb8c7b28e56b68116",
       "version_major": 2,
       "version_minor": 0
      },
      "text/plain": [
       "HBox(children=(IntProgress(value=0, max=144), HTML(value='')))"
      ]
     },
     "metadata": {},
     "output_type": "display_data"
    },
    {
     "name": "stdout",
     "output_type": "stream",
     "text": [
      "[ (8.06 epo)]: TRAIN:[loss=0.092]\n",
      "[ (8.12 epo)]: TRAIN:[loss=0.094]\n",
      "[ (8.19 epo)]: TRAIN:[loss=0.093]\n",
      "[ (8.26 epo)]: TRAIN:[loss=0.089]\n",
      "[ (8.33 epo)]: TRAIN:[loss=0.082] VALID:[STSB/pearson_corr=0.7061172127723694, STSB/spearman_corr=0.629]\n",
      "[ (8.40 epo)]: TRAIN:[loss=0.088]\n",
      "[ (8.47 epo)]: TRAIN:[loss=0.080]\n",
      "[ (8.54 epo)]: TRAIN:[loss=0.087]\n",
      "[ (8.61 epo)]: TRAIN:[loss=0.086]\n",
      "[ (8.68 epo)]: TRAIN:[loss=0.082] VALID:[STSB/pearson_corr=0.7206546664237976, STSB/spearman_corr=0.654]\n",
      "[ (8.75 epo)]: TRAIN:[loss=0.086]\n",
      "[ (8.82 epo)]: TRAIN:[loss=0.087]\n",
      "[ (8.89 epo)]: TRAIN:[loss=0.086]\n",
      "[ (8.96 epo)]: TRAIN:[loss=0.078]\n",
      "\n"
     ]
    },
    {
     "data": {
      "application/vnd.jupyter.widget-view+json": {
       "model_id": "0bb66c01d4d748ccb2f5f704af19341e",
       "version_major": 2,
       "version_minor": 0
      },
      "text/plain": [
       "HBox(children=(IntProgress(value=0, max=144), HTML(value='')))"
      ]
     },
     "metadata": {},
     "output_type": "display_data"
    },
    {
     "name": "stdout",
     "output_type": "stream",
     "text": [
      "[ (9.03 epo)]: TRAIN:[loss=0.088] VALID:[STSB/pearson_corr=0.7622554898262024, STSB/spearman_corr=0.694]\n",
      "Saving model at iteration 1300 with best (max) score 0.762\n",
      "[ (9.10 epo)]: TRAIN:[loss=0.079]\n",
      "[ (9.17 epo)]: TRAIN:[loss=0.079]\n",
      "[ (9.24 epo)]: TRAIN:[loss=0.087]\n",
      "[ (9.31 epo)]: TRAIN:[loss=0.090]\n",
      "[ (9.38 epo)]: TRAIN:[loss=0.092] VALID:[STSB/pearson_corr=0.7107087969779968, STSB/spearman_corr=0.626]\n",
      "[ (9.44 epo)]: TRAIN:[loss=0.093]\n",
      "[ (9.51 epo)]: TRAIN:[loss=0.093]\n",
      "[ (9.58 epo)]: TRAIN:[loss=0.080]\n",
      "[ (9.65 epo)]: TRAIN:[loss=0.082]\n",
      "[ (9.72 epo)]: TRAIN:[loss=0.083] VALID:[STSB/pearson_corr=0.749098539352417, STSB/spearman_corr=0.682]\n",
      "[ (9.79 epo)]: TRAIN:[loss=0.084]\n",
      "[ (9.86 epo)]: TRAIN:[loss=0.087]\n",
      "[ (9.93 epo)]: TRAIN:[loss=0.092]\n",
      "[ (10.00 epo)]: TRAIN:[loss=0.082]\n",
      "\n"
     ]
    },
    {
     "data": {
      "application/vnd.jupyter.widget-view+json": {
       "model_id": "9aa99c40456b48c3a918e2477b031c37",
       "version_major": 2,
       "version_minor": 0
      },
      "text/plain": [
       "HBox(children=(IntProgress(value=0, max=144), HTML(value='')))"
      ]
     },
     "metadata": {},
     "output_type": "display_data"
    },
    {
     "name": "stdout",
     "output_type": "stream",
     "text": [
      "[ (10.07 epo)]: TRAIN:[loss=0.090] VALID:[STSB/pearson_corr=0.6756696701049805, STSB/spearman_corr=0.610]\n",
      "[ (10.14 epo)]: TRAIN:[loss=0.085]\n",
      "[ (10.21 epo)]: TRAIN:[loss=0.084]\n",
      "[ (10.28 epo)]: TRAIN:[loss=0.084]\n",
      "[ (10.35 epo)]: TRAIN:[loss=0.078]\n",
      "[ (10.42 epo)]: TRAIN:[loss=0.091] VALID:[STSB/pearson_corr=0.74989253282547, STSB/spearman_corr=0.662]\n",
      "[ (10.49 epo)]: TRAIN:[loss=0.089]\n",
      "[ (10.56 epo)]: TRAIN:[loss=0.079]\n",
      "[ (10.62 epo)]: TRAIN:[loss=0.088]\n",
      "[ (10.69 epo)]: TRAIN:[loss=0.087]\n",
      "[ (10.76 epo)]: TRAIN:[loss=0.083] VALID:[STSB/pearson_corr=0.7659570574760437, STSB/spearman_corr=0.711]\n",
      "Saving model at iteration 1550 with best (max) score 0.766\n",
      "[ (10.83 epo)]: TRAIN:[loss=0.090]\n",
      "[ (10.90 epo)]: TRAIN:[loss=0.087]\n",
      "[ (10.97 epo)]: TRAIN:[loss=0.086]\n",
      "\n"
     ]
    },
    {
     "data": {
      "application/vnd.jupyter.widget-view+json": {
       "model_id": "6d142f90841f4997b973d12e8e9f232c",
       "version_major": 2,
       "version_minor": 0
      },
      "text/plain": [
       "HBox(children=(IntProgress(value=0, max=144), HTML(value='')))"
      ]
     },
     "metadata": {},
     "output_type": "display_data"
    },
    {
     "name": "stdout",
     "output_type": "stream",
     "text": [
      "[ (11.04 epo)]: TRAIN:[loss=0.087]\n",
      "[ (11.11 epo)]: TRAIN:[loss=0.078] VALID:[STSB/pearson_corr=0.7188082933425903, STSB/spearman_corr=0.646]\n",
      "[ (11.18 epo)]: TRAIN:[loss=0.089]\n",
      "[ (11.25 epo)]: TRAIN:[loss=0.082]\n",
      "[ (11.32 epo)]: TRAIN:[loss=0.082]\n",
      "[ (11.39 epo)]: TRAIN:[loss=0.089]\n",
      "[ (11.46 epo)]: TRAIN:[loss=0.091] VALID:[STSB/pearson_corr=0.7569652795791626, STSB/spearman_corr=0.697]\n",
      "[ (11.53 epo)]: TRAIN:[loss=0.085]\n",
      "[ (11.60 epo)]: TRAIN:[loss=0.087]\n",
      "[ (11.67 epo)]: TRAIN:[loss=0.089]\n",
      "[ (11.74 epo)]: TRAIN:[loss=0.093]\n",
      "[ (11.81 epo)]: TRAIN:[loss=0.089] VALID:[STSB/pearson_corr=0.7517994046211243, STSB/spearman_corr=0.693]\n",
      "[ (11.88 epo)]: TRAIN:[loss=0.081]\n",
      "[ (11.94 epo)]: TRAIN:[loss=0.085]\n",
      "\n"
     ]
    },
    {
     "data": {
      "application/vnd.jupyter.widget-view+json": {
       "model_id": "503a8884416042949547f19fe17ebe3e",
       "version_major": 2,
       "version_minor": 0
      },
      "text/plain": [
       "HBox(children=(IntProgress(value=0, max=144), HTML(value='')))"
      ]
     },
     "metadata": {},
     "output_type": "display_data"
    },
    {
     "name": "stdout",
     "output_type": "stream",
     "text": [
      "[ (12.01 epo)]: TRAIN:[loss=0.088]\n",
      "[ (12.08 epo)]: TRAIN:[loss=0.081]\n",
      "[ (12.15 epo)]: TRAIN:[loss=0.083] VALID:[STSB/pearson_corr=0.7477895021438599, STSB/spearman_corr=0.671]\n",
      "[ (12.22 epo)]: TRAIN:[loss=0.083]\n",
      "[ (12.29 epo)]: TRAIN:[loss=0.081]\n",
      "[ (12.36 epo)]: TRAIN:[loss=0.086]\n",
      "[ (12.43 epo)]: TRAIN:[loss=0.089]\n",
      "[ (12.50 epo)]: TRAIN:[loss=0.081] VALID:[STSB/pearson_corr=0.7429524064064026, STSB/spearman_corr=0.682]\n",
      "[ (12.57 epo)]: TRAIN:[loss=0.084]\n",
      "[ (12.64 epo)]: TRAIN:[loss=0.092]\n",
      "[ (12.71 epo)]: TRAIN:[loss=0.088]\n",
      "[ (12.78 epo)]: TRAIN:[loss=0.083]\n",
      "[ (12.85 epo)]: TRAIN:[loss=0.091] VALID:[STSB/pearson_corr=0.7587693333625793, STSB/spearman_corr=0.690]\n",
      "[ (12.92 epo)]: TRAIN:[loss=0.090]\n",
      "[ (12.99 epo)]: TRAIN:[loss=0.089]\n",
      "\n"
     ]
    },
    {
     "data": {
      "application/vnd.jupyter.widget-view+json": {
       "model_id": "d257009f33e74b79b4b22419d787068c",
       "version_major": 2,
       "version_minor": 0
      },
      "text/plain": [
       "HBox(children=(IntProgress(value=0, max=144), HTML(value='')))"
      ]
     },
     "metadata": {},
     "output_type": "display_data"
    },
    {
     "name": "stdout",
     "output_type": "stream",
     "text": [
      "[ (13.06 epo)]: TRAIN:[loss=0.084]\n",
      "[ (13.12 epo)]: TRAIN:[loss=0.094]\n",
      "[ (13.19 epo)]: TRAIN:[loss=0.090] VALID:[STSB/pearson_corr=0.7468435168266296, STSB/spearman_corr=0.677]\n",
      "[ (13.26 epo)]: TRAIN:[loss=0.080]\n",
      "[ (13.33 epo)]: TRAIN:[loss=0.089]\n",
      "[ (13.40 epo)]: TRAIN:[loss=0.079]\n",
      "[ (13.47 epo)]: TRAIN:[loss=0.087]\n",
      "[ (13.54 epo)]: TRAIN:[loss=0.087] VALID:[STSB/pearson_corr=0.7413291931152344, STSB/spearman_corr=0.695]\n",
      "[ (13.61 epo)]: TRAIN:[loss=0.090]\n",
      "[ (13.68 epo)]: TRAIN:[loss=0.084]\n",
      "[ (13.75 epo)]: TRAIN:[loss=0.080]\n",
      "[ (13.82 epo)]: TRAIN:[loss=0.096]\n",
      "[ (13.89 epo)]: TRAIN:[loss=0.087] VALID:[STSB/pearson_corr=0.752461314201355, STSB/spearman_corr=0.708]\n",
      "[ (13.96 epo)]: TRAIN:[loss=0.081]\n",
      "\n"
     ]
    },
    {
     "data": {
      "application/vnd.jupyter.widget-view+json": {
       "model_id": "191a40034bee4b3f9236d64b85834820",
       "version_major": 2,
       "version_minor": 0
      },
      "text/plain": [
       "HBox(children=(IntProgress(value=0, max=144), HTML(value='')))"
      ]
     },
     "metadata": {},
     "output_type": "display_data"
    },
    {
     "name": "stdout",
     "output_type": "stream",
     "text": [
      "[ (14.03 epo)]: TRAIN:[loss=0.080]\n",
      "[ (14.10 epo)]: TRAIN:[loss=0.090]\n",
      "[ (14.17 epo)]: TRAIN:[loss=0.082]\n",
      "[ (14.24 epo)]: TRAIN:[loss=0.088] VALID:[STSB/pearson_corr=0.7682886719703674, STSB/spearman_corr=0.714]\n",
      "Saving model at iteration 2050 with best (max) score 0.768\n",
      "[ (14.31 epo)]: TRAIN:[loss=0.080]\n",
      "[ (14.38 epo)]: TRAIN:[loss=0.097]\n",
      "[ (14.44 epo)]: TRAIN:[loss=0.085]\n",
      "[ (14.51 epo)]: TRAIN:[loss=0.083]\n",
      "[ (14.58 epo)]: TRAIN:[loss=0.085] VALID:[STSB/pearson_corr=0.769157886505127, STSB/spearman_corr=0.716]\n",
      "Saving model at iteration 2100 with best (max) score 0.769\n",
      "[ (14.65 epo)]: TRAIN:[loss=0.094]\n",
      "[ (14.72 epo)]: TRAIN:[loss=0.078]\n",
      "[ (14.79 epo)]: TRAIN:[loss=0.094]\n",
      "[ (14.86 epo)]: TRAIN:[loss=0.081]\n",
      "[ (14.93 epo)]: TRAIN:[loss=0.093] VALID:[STSB/pearson_corr=0.7703086137771606, STSB/spearman_corr=0.718]\n",
      "Saving model at iteration 2150 with best (max) score 0.770\n",
      "[ (15.00 epo)]: TRAIN:[loss=0.078]\n",
      "\n"
     ]
    },
    {
     "data": {
      "application/vnd.jupyter.widget-view+json": {
       "model_id": "fec43261db314a33b1cf8b966ed6dd57",
       "version_major": 2,
       "version_minor": 0
      },
      "text/plain": [
       "HBox(children=(IntProgress(value=0, max=144), HTML(value='')))"
      ]
     },
     "metadata": {},
     "output_type": "display_data"
    },
    {
     "name": "stdout",
     "output_type": "stream",
     "text": [
      "[ (15.07 epo)]: TRAIN:[loss=0.086]\n",
      "[ (15.14 epo)]: TRAIN:[loss=0.090]\n",
      "[ (15.21 epo)]: TRAIN:[loss=0.078]\n",
      "[ (15.28 epo)]: TRAIN:[loss=0.094] VALID:[STSB/pearson_corr=0.7029048800468445, STSB/spearman_corr=0.623]\n",
      "[ (15.35 epo)]: TRAIN:[loss=0.082]\n",
      "[ (15.42 epo)]: TRAIN:[loss=0.083]\n",
      "[ (15.49 epo)]: TRAIN:[loss=0.076]\n",
      "[ (15.56 epo)]: TRAIN:[loss=0.100]\n",
      "[ (15.62 epo)]: TRAIN:[loss=0.091] VALID:[STSB/pearson_corr=0.7543656826019287, STSB/spearman_corr=0.694]\n",
      "[ (15.69 epo)]: TRAIN:[loss=0.085]\n",
      "[ (15.76 epo)]: TRAIN:[loss=0.084]\n",
      "[ (15.83 epo)]: TRAIN:[loss=0.084]\n",
      "[ (15.90 epo)]: TRAIN:[loss=0.084]\n",
      "[ (15.97 epo)]: TRAIN:[loss=0.090] VALID:[STSB/pearson_corr=0.7636527419090271, STSB/spearman_corr=0.728]\n",
      "\n"
     ]
    },
    {
     "data": {
      "application/vnd.jupyter.widget-view+json": {
       "model_id": "8bfcda50acc6444f9e934eead5e0c5de",
       "version_major": 2,
       "version_minor": 0
      },
      "text/plain": [
       "HBox(children=(IntProgress(value=0, max=144), HTML(value='')))"
      ]
     },
     "metadata": {},
     "output_type": "display_data"
    },
    {
     "name": "stdout",
     "output_type": "stream",
     "text": [
      "[ (16.04 epo)]: TRAIN:[loss=0.081]\n",
      "[ (16.11 epo)]: TRAIN:[loss=0.089]\n",
      "[ (16.18 epo)]: TRAIN:[loss=0.080]\n",
      "[ (16.25 epo)]: TRAIN:[loss=0.084]\n",
      "[ (16.32 epo)]: TRAIN:[loss=0.086] VALID:[STSB/pearson_corr=0.7657266855239868, STSB/spearman_corr=0.728]\n",
      "[ (16.39 epo)]: TRAIN:[loss=0.084]\n",
      "[ (16.46 epo)]: TRAIN:[loss=0.083]\n",
      "[ (16.53 epo)]: TRAIN:[loss=0.086]\n",
      "[ (16.60 epo)]: TRAIN:[loss=0.085]\n",
      "[ (16.67 epo)]: TRAIN:[loss=0.086] VALID:[STSB/pearson_corr=0.7729123830795288, STSB/spearman_corr=0.725]\n",
      "Saving model at iteration 2400 with best (max) score 0.773\n",
      "[ (16.74 epo)]: TRAIN:[loss=0.090]\n",
      "[ (16.81 epo)]: TRAIN:[loss=0.087]\n",
      "[ (16.88 epo)]: TRAIN:[loss=0.088]\n",
      "[ (16.94 epo)]: TRAIN:[loss=0.096]\n",
      "\n"
     ]
    },
    {
     "data": {
      "application/vnd.jupyter.widget-view+json": {
       "model_id": "8332b4c163d64766996c7dddd441760f",
       "version_major": 2,
       "version_minor": 0
      },
      "text/plain": [
       "HBox(children=(IntProgress(value=0, max=144), HTML(value='')))"
      ]
     },
     "metadata": {},
     "output_type": "display_data"
    },
    {
     "name": "stdout",
     "output_type": "stream",
     "text": [
      "[ (17.01 epo)]: TRAIN:[loss=0.085] VALID:[STSB/pearson_corr=0.7771153450012207, STSB/spearman_corr=0.714]\n",
      "Saving model at iteration 2450 with best (max) score 0.777\n",
      "[ (17.08 epo)]: TRAIN:[loss=0.085]\n",
      "[ (17.15 epo)]: TRAIN:[loss=0.085]\n",
      "[ (17.22 epo)]: TRAIN:[loss=0.081]\n",
      "[ (17.29 epo)]: TRAIN:[loss=0.079]\n",
      "[ (17.36 epo)]: TRAIN:[loss=0.093] VALID:[STSB/pearson_corr=0.7777262926101685, STSB/spearman_corr=0.725]\n",
      "Saving model at iteration 2500 with best (max) score 0.778\n",
      "[ (17.43 epo)]: TRAIN:[loss=0.096]\n",
      "[ (17.50 epo)]: TRAIN:[loss=0.084]\n",
      "[ (17.57 epo)]: TRAIN:[loss=0.090]\n",
      "[ (17.64 epo)]: TRAIN:[loss=0.083]\n",
      "[ (17.71 epo)]: TRAIN:[loss=0.085] VALID:[STSB/pearson_corr=0.7785698175430298, STSB/spearman_corr=0.730]\n",
      "Saving model at iteration 2550 with best (max) score 0.779\n",
      "[ (17.78 epo)]: TRAIN:[loss=0.086]\n",
      "[ (17.85 epo)]: TRAIN:[loss=0.088]\n",
      "[ (17.92 epo)]: TRAIN:[loss=0.080]\n",
      "[ (17.99 epo)]: TRAIN:[loss=0.089]\n",
      "\n"
     ]
    },
    {
     "data": {
      "application/vnd.jupyter.widget-view+json": {
       "model_id": "6ba24c01cd1d4b57acf92793c2510f3c",
       "version_major": 2,
       "version_minor": 0
      },
      "text/plain": [
       "HBox(children=(IntProgress(value=0, max=144), HTML(value='')))"
      ]
     },
     "metadata": {},
     "output_type": "display_data"
    },
    {
     "name": "stdout",
     "output_type": "stream",
     "text": [
      "[ (18.06 epo)]: TRAIN:[loss=0.076] VALID:[STSB/pearson_corr=0.7814428806304932, STSB/spearman_corr=0.729]\n",
      "Saving model at iteration 2600 with best (max) score 0.781\n",
      "[ (18.12 epo)]: TRAIN:[loss=0.084]\n",
      "[ (18.19 epo)]: TRAIN:[loss=0.086]\n",
      "[ (18.26 epo)]: TRAIN:[loss=0.076]\n",
      "[ (18.33 epo)]: TRAIN:[loss=0.092]\n",
      "[ (18.40 epo)]: TRAIN:[loss=0.081] VALID:[STSB/pearson_corr=0.787980854511261, STSB/spearman_corr=0.742]\n",
      "Saving model at iteration 2650 with best (max) score 0.788\n",
      "[ (18.47 epo)]: TRAIN:[loss=0.102]\n",
      "[ (18.54 epo)]: TRAIN:[loss=0.087]\n",
      "[ (18.61 epo)]: TRAIN:[loss=0.092]\n",
      "[ (18.68 epo)]: TRAIN:[loss=0.077]\n",
      "[ (18.75 epo)]: TRAIN:[loss=0.083] VALID:[STSB/pearson_corr=0.7538357377052307, STSB/spearman_corr=0.666]\n",
      "[ (18.82 epo)]: TRAIN:[loss=0.089]\n",
      "[ (18.89 epo)]: TRAIN:[loss=0.086]\n",
      "[ (18.96 epo)]: TRAIN:[loss=0.087]\n",
      "\n"
     ]
    },
    {
     "data": {
      "application/vnd.jupyter.widget-view+json": {
       "model_id": "4657e1bbc6074448be87cd02613174ff",
       "version_major": 2,
       "version_minor": 0
      },
      "text/plain": [
       "HBox(children=(IntProgress(value=0, max=144), HTML(value='')))"
      ]
     },
     "metadata": {},
     "output_type": "display_data"
    },
    {
     "name": "stdout",
     "output_type": "stream",
     "text": [
      "[ (19.03 epo)]: TRAIN:[loss=0.088]\n",
      "[ (19.10 epo)]: TRAIN:[loss=0.083] VALID:[STSB/pearson_corr=0.7751784920692444, STSB/spearman_corr=0.700]\n",
      "[ (19.17 epo)]: TRAIN:[loss=0.084]\n",
      "[ (19.24 epo)]: TRAIN:[loss=0.080]\n",
      "[ (19.31 epo)]: TRAIN:[loss=0.089]\n",
      "[ (19.38 epo)]: TRAIN:[loss=0.079]\n",
      "[ (19.44 epo)]: TRAIN:[loss=0.087] VALID:[STSB/pearson_corr=0.7715903520584106, STSB/spearman_corr=0.714]\n",
      "[ (19.51 epo)]: TRAIN:[loss=0.083]\n",
      "[ (19.58 epo)]: TRAIN:[loss=0.082]\n",
      "[ (19.65 epo)]: TRAIN:[loss=0.091]\n",
      "[ (19.72 epo)]: TRAIN:[loss=0.087]\n",
      "[ (19.79 epo)]: TRAIN:[loss=0.086] VALID:[STSB/pearson_corr=0.7769273519515991, STSB/spearman_corr=0.715]\n",
      "[ (19.86 epo)]: TRAIN:[loss=0.086]\n",
      "[ (19.93 epo)]: TRAIN:[loss=0.099]\n",
      "[ (20.00 epo)]: TRAIN:[loss=0.090]\n",
      "\n",
      "Restoring best model from iteration 2650 with score 0.788\n",
      "Finished Training\n",
      "{'STSB/valid/pearson_corr': 0.78798085,\n",
      " 'STSB/valid/spearman_corr': 0.7420026822254432}\n",
      "CPU times: user 25min 4s, sys: 3min 31s, total: 28min 35s\n",
      "Wall time: 29min 3s\n"
     ]
    }
   ],
   "source": [
    "%%time\n",
    "\n",
    "from metal.end_model import EndModel\n",
    "from metal.mmtl.metal_model import MetalModel\n",
    "from metal.mmtl.trainer import MultitaskTrainer\n",
    "\n",
    "model = MetalModel(tasks, verbose=False)\n",
    "trainer = MultitaskTrainer()\n",
    "trainer.train_model(\n",
    "    model,\n",
    "    tasks,\n",
    "    n_epochs=20,\n",
    "    lr=1e-5, l2=0,\n",
    "    progress_bar=True,\n",
    "    log_every=10,\n",
    "    score_every=50,\n",
    "    log_unit=\"batches\",\n",
    "    checkpoint_best=True,\n",
    "    checkpoint_metric=\"STSB/valid/pearson_corr\",\n",
    "    checkpoint_metric_mode=\"max\",\n",
    ")"
   ]
  },
  {
   "cell_type": "code",
   "execution_count": null,
   "metadata": {},
   "outputs": [],
   "source": []
  }
 ],
 "metadata": {
  "kernelspec": {
   "display_name": "Python 3",
   "language": "python",
   "name": "python3"
  },
  "language_info": {
   "codemirror_mode": {
    "name": "ipython",
    "version": 3
   },
   "file_extension": ".py",
   "mimetype": "text/x-python",
   "name": "python",
   "nbconvert_exporter": "python",
   "pygments_lexer": "ipython3",
   "version": "3.6.7"
  }
 },
 "nbformat": 4,
 "nbformat_minor": 2
}
