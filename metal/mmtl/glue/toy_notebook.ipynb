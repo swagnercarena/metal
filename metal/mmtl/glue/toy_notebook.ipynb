{
 "cells": [
  {
   "cell_type": "code",
   "execution_count": 344,
   "metadata": {},
   "outputs": [],
   "source": [
    "import sys, os\n",
    "import torch\n",
    "from glue_preprocess import load_tsv\n",
    "import numpy as np\n",
    "import spacy\n",
    "from tqdm import tqdm\n",
    "root = \"/Users/sebwagner/Documents/Grad_School/Rotations/Re/\"\n",
    "sys.path.append(root + \"metal\")\n",
    "os.environ[\"GLUEDATA\"] = root + \"metal/metal/mmtl/glue/glue_data\"\n",
    "from metal.mmtl.metal_model import MetalModel, probs_to_preds\n",
    "import metal.mmtl.glue.glue_datasets\n",
    "import metal.mmtl.glue.glue_tasks\n",
    "import torch.nn as nn\n",
    "from torch.autograd import Variable\n",
    "import torch\n",
    "import json"
   ]
  },
  {
   "cell_type": "code",
   "execution_count": 345,
   "metadata": {
    "scrolled": false
   },
   "outputs": [
    {
     "name": "stdout",
     "output_type": "stream",
     "text": [
      "Could not find kwarg \"verbose\" in destination dict.\n",
      "Could not find kwarg \"commit_hash\" in destination dict.\n",
      "Could not find kwarg \"ami\" in destination dict.\n",
      "Could not find kwarg \"progress_bar\" in destination dict.\n",
      "Could not find kwarg \"n_epochs\" in destination dict.\n",
      "Could not find kwarg \"l2\" in destination dict.\n",
      "Could not find kwarg \"grad_clip\" in destination dict.\n",
      "Could not find kwarg \"optimizer_config\" in destination dict.\n",
      "Could not find kwarg \"lr_scheduler\" in destination dict.\n",
      "Could not find kwarg \"lr_scheduler_config\" in destination dict.\n",
      "Could not find kwarg \"metrics_config\" in destination dict.\n",
      "Could not find kwarg \"task_scheduler\" in destination dict.\n",
      "Could not find kwarg \"logger\" in destination dict.\n",
      "Could not find kwarg \"logger_config\" in destination dict.\n",
      "Could not find kwarg \"writer\" in destination dict.\n",
      "Could not find kwarg \"writer_config\" in destination dict.\n",
      "Could not find kwarg \"checkpoint\" in destination dict.\n",
      "Could not find kwarg \"checkpoint_tasks\" in destination dict.\n",
      "Could not find kwarg \"checkpoint_cleanup\" in destination dict.\n",
      "Could not find kwarg \"checkpoint_config\" in destination dict.\n",
      "Could not find kwarg \"checkoint_best\" in destination dict.\n",
      "Using soft attention head\n",
      "Loading RTE Dataset\n"
     ]
    },
    {
     "data": {
      "application/vnd.jupyter.widget-view+json": {
       "model_id": "e2dc0bc264df41099ef4e886b7f3344f",
       "version_major": 2,
       "version_minor": 0
      },
      "text/plain": [
       "HBox(children=(IntProgress(value=0, max=2490), HTML(value='')))"
      ]
     },
     "metadata": {},
     "output_type": "display_data"
    },
    {
     "name": "stdout",
     "output_type": "stream",
     "text": [
      "\n"
     ]
    },
    {
     "data": {
      "application/vnd.jupyter.widget-view+json": {
       "model_id": "e758076cb14f48b888d39737e92ca380",
       "version_major": 2,
       "version_minor": 0
      },
      "text/plain": [
       "HBox(children=(IntProgress(value=0, max=277), HTML(value='')))"
      ]
     },
     "metadata": {},
     "output_type": "display_data"
    },
    {
     "name": "stdout",
     "output_type": "stream",
     "text": [
      "\n"
     ]
    },
    {
     "data": {
      "application/vnd.jupyter.widget-view+json": {
       "model_id": "0f89bd9456fe4b0d99cfe3b3ea4df9c4",
       "version_major": 2,
       "version_minor": 0
      },
      "text/plain": [
       "HBox(children=(IntProgress(value=0, max=3000), HTML(value='')))"
      ]
     },
     "metadata": {},
     "output_type": "display_data"
    },
    {
     "name": "stdout",
     "output_type": "stream",
     "text": [
      "\n"
     ]
    },
    {
     "data": {
      "application/vnd.jupyter.widget-view+json": {
       "model_id": "5aa81f4bf97744fba6b6c228708b11a2",
       "version_major": 2,
       "version_minor": 0
      },
      "text/plain": [
       "HBox(children=(IntProgress(value=0, max=2490), HTML(value='')))"
      ]
     },
     "metadata": {},
     "output_type": "display_data"
    },
    {
     "name": "stdout",
     "output_type": "stream",
     "text": [
      "\n"
     ]
    }
   ],
   "source": [
    "with open(os.path.join(root+\"dawn/\", \"config.json\")) as f:\n",
    "    task_config = json.load(f)\n",
    "tasks, payloads = glue_tasks.create_glue_tasks_payloads(['RTE'], **task_config)\n",
    "dataset = glue_datasets.get_glue_dataset('RTE','train',\"bert-base-uncased\")"
   ]
  },
  {
   "cell_type": "code",
   "execution_count": 3,
   "metadata": {},
   "outputs": [
    {
     "name": "stderr",
     "output_type": "stream",
     "text": [
      "100%|██████████| 200/200 [05:47<00:00,  1.20s/it]\n"
     ]
    }
   ],
   "source": [
    "def extract_features(dataset,nlp):\n",
    "    sentences = dataset.sentences[:200]\n",
    "    # Two 300 dimensional vectors\n",
    "    features = np.zeros((len(sentences),600))\n",
    "    # For now the only feature we extract is the GloVe vector representation of each sentence.\n",
    "    for s_i in tqdm(range(len(sentences))):\n",
    "        sentence_pair = sentences[s_i]\n",
    "        for token in sentence_pair[0]:\n",
    "            features[s_i,:300] += nlp(token).vector\n",
    "        for token in sentence_pair[1]:\n",
    "            features[s_i,300:] += nlp(token).vector\n",
    "        features[s_i,:300] /= np.linalg.norm(features[s_i,:300])\n",
    "        features[s_i,300:] /= np.linalg.norm(features[s_i,300:])\n",
    "    return features\n",
    "\n",
    "nlp = spacy.load(\"en_core_web_lg\")\n",
    "features = extract_features(dataset,nlp)"
   ]
  },
  {
   "cell_type": "code",
   "execution_count": 346,
   "metadata": {},
   "outputs": [],
   "source": [
    "# Convert to boolean +- 1 representation\n",
    "bool_features = features>0.01\n",
    "bool_features = bool_features.astype(np.int)\n",
    "bool_features[bool_features == 0] = -1"
   ]
  },
  {
   "cell_type": "code",
   "execution_count": 347,
   "metadata": {
    "scrolled": true
   },
   "outputs": [],
   "source": [
    "# I'm having issues loading the model using this value of tasks. What should I use here?\n",
    "# model = MetalModel(tasks, verbose=False, device=-1)\n",
    "# model_path = root + 'dawn/best_model.pth'\n",
    "# model.load_weights(model_path)\n",
    "# model.eval()"
   ]
  },
  {
   "cell_type": "code",
   "execution_count": 348,
   "metadata": {},
   "outputs": [
    {
     "data": {
      "application/vnd.jupyter.widget-view+json": {
       "model_id": "b5e0e9b8c72f409f865d816b5bbef25b",
       "version_major": 2,
       "version_minor": 0
      },
      "text/plain": [
       "HBox(children=(IntProgress(value=0, max=2490), HTML(value='')))"
      ]
     },
     "metadata": {},
     "output_type": "display_data"
    },
    {
     "name": "stdout",
     "output_type": "stream",
     "text": [
      "\n"
     ]
    }
   ],
   "source": [
    "tsv_path = '/Users/sebwagner/Documents/Grad_School/Rotations/Re/dawn/train.tsv'\n",
    "_, labels = load_tsv(tsv_path,1,2,3,1)\n",
    "# Which label is 1 and 0? I guess 0 for not_entailment.\n",
    "labels = list(map(lambda x: -1 if x == 'not_entailment' else 1, labels))[:200]\n",
    "# For now we're going to create fake labels since we don't have the model outputs\n",
    "fake_predicted_labels = np.array(labels)*bool_features[:,21]\n",
    "dif_numpy =np.abs(fake_predicted_labels-labels)"
   ]
  },
  {
   "cell_type": "code",
   "execution_count": 349,
   "metadata": {},
   "outputs": [],
   "source": [
    "# Build the linear classifier with L1 weight regularization.\n",
    "class LinearRegression(nn.Module):\n",
    "    def __init__(self,input_dim,output_dim):\n",
    "        super(LinearRegression, self).__init__()\n",
    "        self.linear = nn.Linear(input_dim,output_dim)\n",
    "    \n",
    "    def forward(self,X):\n",
    "        X = self.linear(X)\n",
    "        return X"
   ]
  },
  {
   "cell_type": "code",
   "execution_count": 354,
   "metadata": {},
   "outputs": [],
   "source": [
    "# Initialize our model\n",
    "linear_regression = LinearRegression(bool_features.shape[1],1)\n",
    "X = Variable(torch.Tensor(bool_features))\n",
    "dif = Variable(torch.Tensor(np.expand_dims(dif_numpy.T,axis=1)))\n",
    "# Regularization strength of L1 norm:\n",
    "lam = 1e-2"
   ]
  },
  {
   "cell_type": "code",
   "execution_count": 355,
   "metadata": {},
   "outputs": [
    {
     "name": "stderr",
     "output_type": "stream",
     "text": [
      "100%|██████████| 5000/5000 [00:02<00:00, 2088.26it/s]\n"
     ]
    },
    {
     "name": "stdout",
     "output_type": "stream",
     "text": [
      "tensor(0.0201, grad_fn=<AddBackward0>)\n"
     ]
    },
    {
     "data": {
      "image/png": "[encoded data removed]",
      "text/plain": [
       "<Figure size 432x288 with 1 Axes>"
      ]
     },
     "metadata": {
      "needs_background": "light"
     },
     "output_type": "display_data"
    }
   ],
   "source": [
    "# Learn our weights\n",
    "optim = torch.optim.Adam(linear_regression.parameters(), lr = 0.001)\n",
    "linear_regression.train()\n",
    "n_epochs = 5000\n",
    "loss_vec = []\n",
    "for epoch in tqdm(range(n_epochs)):\n",
    "    dif_pred = linear_regression(X)\n",
    "    pred_loss = nn.MSELoss()\n",
    "    loss = pred_loss(dif_pred,dif)\n",
    "    for param in linear_regression.parameters():\n",
    "        loss += lam*torch.sum(torch.abs(param))\n",
    "    loss_vec.append(loss.data.numpy())\n",
    "    optim.zero_grad()\n",
    "    loss.backward()\n",
    "    optim.step()\n",
    "plt.plot(np.array(loss_vec))\n",
    "print(loss)"
   ]
  },
  {
   "cell_type": "code",
   "execution_count": 356,
   "metadata": {},
   "outputs": [
    {
     "data": {
      "text/plain": [
       "array([21])"
      ]
     },
     "execution_count": 356,
     "metadata": {},
     "output_type": "execute_result"
    }
   ],
   "source": [
    "params = []\n",
    "for param in linear_regression.parameters():\n",
    "    params.append(param.data.numpy())\n",
    "np.where(np.abs(params[0])>0.2)[1]"
   ]
  },
  {
   "cell_type": "markdown",
   "metadata": {},
   "source": [
    "### Questions\n",
    "1. What changes do I need to make to have the model match the configuration for the model weights?\n",
    "2. What types of features should I start exploring? Bag of words (best implementation of this? Just build a dictionairy from RTE sentences?)\n",
    "3. What do we need the pipeline to look like to be useful? Take as input the model_path and configuration file and output the features that define the slices? How should we encode these features (I assume this depends on the features we want to extract).\n",
    "4. How do we tune regularization strength and cutoff on weights?"
   ]
  },
  {
   "cell_type": "code",
   "execution_count": null,
   "metadata": {},
   "outputs": [],
   "source": []
  }
 ],
 "metadata": {
  "kernelspec": {
   "display_name": "Python 3",
   "language": "python",
   "name": "python3"
  },
  "language_info": {
   "codemirror_mode": {
    "name": "ipython",
    "version": 3
   },
   "file_extension": ".py",
   "mimetype": "text/x-python",
   "name": "python",
   "nbconvert_exporter": "python",
   "pygments_lexer": "ipython3",
   "version": "3.6.8"
  }
 },
 "nbformat": 4,
 "nbformat_minor": 2
}
